{
 "cells": [
  {
   "cell_type": "markdown",
   "metadata": {},
   "source": [
    "# Jacobi Example"
   ]
  },
  {
   "cell_type": "code",
   "execution_count": null,
   "metadata": {},
   "outputs": [],
   "source": [
    "# dependencies\n",
    "using LFAToolkit\n",
    "using LinearAlgebra\n",
    "using Plots"
   ]
  },
  {
   "cell_type": "code",
   "execution_count": null,
   "metadata": {},
   "outputs": [],
   "source": [
    "# setup\n",
    "dimension = 2\n",
    "p = 2\n",
    "mesh = []\n",
    "if dimension == 1\n",
    "   mesh = Mesh1D(1.0)\n",
    "elseif dimension == 2\n",
    "   mesh = Mesh2D(1.0, 1.0)\n",
    "end\n",
    "basis = TensorH1LagrangeBasis(p, p+1, dimension)\n",
    "\n",
    "function diffusionweakform(du::Array{Float64}, w::Array{Float64})\n",
    "    dv = du*w[1]\n",
    "    return [dv]\n",
    "end\n",
    "\n",
    "# diffusion operator\n",
    "inputs = [\n",
    "    OperatorField(basis, [EvaluationMode.gradient]),\n",
    "    OperatorField(basis, [EvaluationMode.quadratureweights]),\n",
    "]\n",
    "outputs = [OperatorField(basis, [EvaluationMode.gradient])]\n",
    "diffusion = Operator(diffusionweakform, mesh, inputs, outputs)\n",
    "\n",
    "# Jacobi smoother\n",
    "jacobi = Jacobi(diffusion)"
   ]
  },
  {
   "cell_type": "code",
   "execution_count": null,
   "metadata": {
    "scrolled": true
   },
   "outputs": [],
   "source": [
    "# compute operator symbols\n",
    "numberruns = 100\n",
    "\n",
    "# compute and plot smoothing factor\n",
    "if dimension == 1\n",
    "    # compute\n",
    "    maxeigenvalues = zeros(numberruns)\n",
    "    for i in 1:numberruns\n",
    "        A = computesymbols(jacobi, [0.838], [2π*(i/numberruns)])\n",
    "        eigenvalues = [abs(val) for val in eigvals(A)]\n",
    "        maxeigenvalues[i] = max(eigenvalues...)\n",
    "    end\n",
    "\n",
    "    # plot\n",
    "    plot(maxeigenvalues, title=\"Jacobi Symbols\")\n",
    "elseif dimension == 2\n",
    "    # compute\n",
    "    maxeigenvalues = zeros(numberruns, numberruns)\n",
    "    for i in 1:numberruns, j in 1:numberruns\n",
    "        A = computesymbols(jacobi, [0.838], [2π*(i/numberruns), 2π*(j/numberruns)])\n",
    "        eigenvalues = [abs(val) for val in eigvals(A)]\n",
    "        maxeigenvalues[i, j] = max(eigenvalues...)\n",
    "    end\n",
    "\n",
    "    # plot\n",
    "    heatmap(maxeigenvalues, title=\"Jacobi Symbols\", transpose=true)\n",
    "end"
   ]
  }
 ],
 "metadata": {
  "kernelspec": {
   "display_name": "Julia 1.5.1",
   "language": "julia",
   "name": "julia-1.5"
  },
  "language_info": {
   "file_extension": ".jl",
   "mimetype": "application/julia",
   "name": "julia",
   "version": "1.5.1"
  }
 },
 "nbformat": 4,
 "nbformat_minor": 4
}
