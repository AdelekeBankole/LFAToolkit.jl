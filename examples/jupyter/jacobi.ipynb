{
 "cells": [
  {
   "cell_type": "markdown",
   "metadata": {},
   "source": [
    "# Jacobi Example"
   ]
  },
  {
   "cell_type": "code",
   "execution_count": null,
   "metadata": {},
   "outputs": [],
   "source": [
    "# dependencies\n",
    "using LFAToolkit\n",
    "using LinearAlgebra"
   ]
  },
  {
   "cell_type": "code",
   "execution_count": null,
   "metadata": {},
   "outputs": [],
   "source": [
    "# setup\n",
    "mesh = Mesh2D(1.0, 1.0)\n",
    "basis = TensorH1LagrangeBasis(4, 4, 2)\n",
    "\n",
    "function diffusionweakform(du::Array{Float64}, w::Array{Float64})\n",
    "    dv = du*w[1]\n",
    "    return [dv]\n",
    "end\n",
    "\n",
    "# diffusion operator\n",
    "inputs = [\n",
    "    OperatorField(basis, [EvaluationMode.gradient]),\n",
    "    OperatorField(basis, [EvaluationMode.quadratureweights]),\n",
    "]\n",
    "outputs = [OperatorField(basis, [EvaluationMode.gradient])]\n",
    "diffusion = Operator(diffusionweakform, mesh, inputs, outputs)\n",
    "\n",
    "# Jacobi smoother\n",
    "jacobi = Jacobi(diffusion)"
   ]
  },
  {
   "cell_type": "code",
   "execution_count": null,
   "metadata": {
    "scrolled": true
   },
   "outputs": [],
   "source": [
    "# compute operator symbols\n",
    "A = computesymbols(jacobi, [1.0], [π, π])\n",
    "eigenvalues = real(eigvals(A))"
   ]
  }
 ],
 "metadata": {
  "kernelspec": {
   "display_name": "Julia 1.5.1",
   "language": "julia",
   "name": "julia-1.5"
  },
  "language_info": {
   "file_extension": ".jl",
   "mimetype": "application/julia",
   "name": "julia",
   "version": "1.5.1"
  }
 },
 "nbformat": 4,
 "nbformat_minor": 4
}
