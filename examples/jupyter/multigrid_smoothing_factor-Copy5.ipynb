{
 "cells": [
  {
   "cell_type": "markdown",
   "metadata": {},
   "source": [
    "# Multilevel Multigrid Example"
   ]
  },
  {
   "cell_type": "code",
   "execution_count": 1,
   "metadata": {
    "scrolled": true
   },
   "outputs": [
    {
     "name": "stderr",
     "output_type": "stream",
     "text": [
      "\u001b[32m\u001b[1m Activating\u001b[22m\u001b[39m environment at `~/Dev/LFAToolkit.jl/examples/jupyter/Project.toml`\n"
     ]
    }
   ],
   "source": [
    "# dependencies\n",
    "using LFAToolkit\n",
    "using LinearAlgebra\n",
    "using Pkg\n",
    "Pkg.activate(\"./\")\n",
    "Pkg.instantiate()\n",
    "using Plots"
   ]
  },
  {
   "cell_type": "code",
   "execution_count": 2,
   "metadata": {},
   "outputs": [
    {
     "data": {
      "text/plain": [
       "p-multigrid preconditioner"
      ]
     },
     "execution_count": 2,
     "metadata": {},
     "output_type": "execute_result"
    }
   ],
   "source": [
    "# setup\n",
    "finep = 9\n",
    "midp5 = 5\n",
    "midp3 = 3\n",
    "coarsep = 2\n",
    "dimension = 2\n",
    "\n",
    "mesh = []\n",
    "if dimension == 1\n",
    "   mesh = Mesh1D(1.0)\n",
    "elseif dimension == 2\n",
    "   mesh = Mesh2D(1.0, 1.0)\n",
    "end\n",
    "\n",
    "mtofbasis5 = TensorH1LagrangeBasis(midp5, finep, dimension, lagrangequadrature=true)\n",
    "mtofbasis3 = TensorH1LagrangeBasis(midp3, midp5, dimension, lagrangequadrature=true)\n",
    "ctombasis = TensorH1LagrangeBasis(coarsep, midp3, dimension, lagrangequadrature=true)\n",
    "\n",
    "# diffusion operators\n",
    "finediffusion = GalleryOperator(\"diffusion\", finep, finep, mesh)\n",
    "middiffusion5 = GalleryOperator(\"diffusion\", midp5, finep, mesh)\n",
    "middiffusion3 = GalleryOperator(\"diffusion\", midp3, finep, mesh)\n",
    "coarsediffusion = GalleryOperator(\"diffusion\", coarsep, finep, mesh)\n",
    "\n",
    "# Jacobi smoother\n",
    "finejacobi = Jacobi(finediffusion)\n",
    "midjacobi5 = Jacobi(middiffusion5)\n",
    "midjacobi3 = Jacobi(middiffusion3)\n",
    "\n",
    "# p-multigrid preconditioner\n",
    "midmultigrid3 = PMultigrid(middiffusion3, coarsediffusion, midjacobi3, [ctombasis])\n",
    "midmultigrid5 = PMultigrid(middiffusion5, midmultigrid3, midjacobi5, [mtofbasis3])\n",
    "multigrid = PMultigrid(finediffusion, midmultigrid5, finejacobi, [mtofbasis5])"
   ]
  },
  {
   "cell_type": "code",
   "execution_count": 18,
   "metadata": {},
   "outputs": [
    {
     "name": "stdout",
     "output_type": "stream",
     "text": [
      "Min ω: [0.82, 0.6073370004492418]\n"
     ]
    }
   ],
   "source": [
    "# full operator symbols\n",
    "numberruns = 100\n",
    "numberruns_w = 1\n",
    "maxeigenvalue = 0\n",
    "θ_min = -π/2\n",
    "θ_max = 3π/2\n",
    "ω_max = 1.0\n",
    "\n",
    "# compute and plot smoothing factor\n",
    "# -- 1D --\n",
    "if dimension == 1\n",
    "    # setup\n",
    "    smoothingfactor = zeros(numberruns)\n",
    "    ω_min = [0.0, 1.0]\n",
    "    v = [2, 2]\n",
    "\n",
    "    # compute\n",
    "    for i in 1:numberruns\n",
    "        ω = [0.5+(ω_max-0.5)*i/numberruns]\n",
    "        for j in 1:numberruns\n",
    "            θ = [θ_min + (θ_max - θ_min)*j/numberruns]\n",
    "            if abs(θ[1] % 2π) >  π/512\n",
    "                A = computesymbols(multigrid, ω, v, θ)\n",
    "                eigenvalues = [abs(val) for val in eigvals(A)]\n",
    "                smoothingfactor[i] = max(smoothingfactor[i], eigenvalues...)\n",
    "            end\n",
    "        end\n",
    "        if smoothingfactor[i] < ω_min[2]\n",
    "            ω_min = [ω[1], smoothingfactor[i]]\n",
    "        end\n",
    "    end\n",
    "\n",
    "    # plot\n",
    "    println(\"Min ω: \", ω_min)\n",
    "    xrange = 0:ω_max/(numberruns-1):ω_max\n",
    "    plot(xrange,\n",
    "        smoothingfactor,\n",
    "        xlabel=\"ω\",\n",
    "        xtickfont=font(12, \"Courier\"),\n",
    "        ylabel=\"spectral radius\",\n",
    "        ytickfont=font(12, \"Courier\"),\n",
    "        linewidth=3,\n",
    "        legend=:none,\n",
    "        title=\"Multigrid Convergence Factor\"\n",
    "    )\n",
    "    ylims!(0.0, max(smoothingfactor...))\n",
    "    savefig(\"multi_grid_converge_9_to_2_2smooth\")\n",
    "# -- 2D --\n",
    "elseif dimension == 2\n",
    "    # setup\n",
    "    smoothingfactor = zeros(numberruns_w)\n",
    "    ω_min = [0.0, 1.0]\n",
    "    v = [1, 1]\n",
    "\n",
    "    # compute\n",
    "    for i in 1:numberruns_w\n",
    "        ω = [0.820]\n",
    "        for j in 1:numberruns, k in 1:numberruns\n",
    "            θ = [\n",
    "                θ_min + (θ_max - θ_min)*j/numberruns,\n",
    "                θ_min + (θ_max - θ_min)*k/numberruns\n",
    "            ]\n",
    "            if θ[1] > π/2 || θ[2] > π/2\n",
    "                A = computesymbols(multigrid, ω, v, θ)\n",
    "                eigenvalues = [abs(val) for val in eigvals(A)]\n",
    "                smoothingfactor[i] = max(smoothingfactor[i], eigenvalues...)\n",
    "                if smoothingfactor[i] < ω_min[2]\n",
    "                    ω_min = [ω[1], smoothingfactor[i]]\n",
    "                end\n",
    "            end\n",
    "        end\n",
    "    end\n",
    "\n",
    "    # plot\n",
    "    println(\"Min ω: \", ω_min)\n",
    "    xrange = 0:ω_max/(numberruns_w-1):ω_max\n",
    "    plot(xrange,\n",
    "        smoothingfactor,\n",
    "        xlabel=\"ω\",\n",
    "        xtickfont=font(12, \"Courier\"),\n",
    "        ylabel=\"spectral radius\",\n",
    "        ytickfont=font(12, \"Courier\"),\n",
    "        linewidth=3,\n",
    "        legend=:none,\n",
    "        title=\"Multigrid Convergence Factor\"\n",
    "    )\n",
    "    ylims!(0.0, max(smoothingfactor...))\n",
    "    savefig(\"multi_grid_converge_9_to_2_2smooth_2d\")\n",
    "end"
   ]
  },
  {
   "cell_type": "code",
   "execution_count": 4,
   "metadata": {},
   "outputs": [
    {
     "data": {
      "text/plain": [
       "2-element Array{Float64,1}:\n",
       " 0.615\n",
       " 0.6945309334026675"
      ]
     },
     "execution_count": 4,
     "metadata": {},
     "output_type": "execute_result"
    }
   ],
   "source": [
    "ω_min"
   ]
  },
  {
   "cell_type": "code",
   "execution_count": null,
   "metadata": {},
   "outputs": [],
   "source": [
    "Min ω: [0.615, 0.6945309334026675]\n",
    "Min ω: [0.701, 0.6562906364159404]\n",
    "Min ω: [0.751, 0.6346582079215057]\n",
    "Min ω: [0.775, 0.6244512055079867]\n",
    "Min ω: [0.801, 0.6135442110017193]\n",
    "Min ω: [0.805, 0.6118827366631115]\n",
    "Min ω: [0.815, 0.6077616114588631]\n",
    "Min ω: [0.817, 0.60695559063608]\n",
    "Min ω: [0.818, 0.6065690462596208]\n",
    "\n",
    "Min ω: [0.819, 0.6062548678596762]\n",
    "\n",
    "Min ω: [0.820, 0.6073370004492418]\n",
    "Min ω: [0.821, 0.6104950274628109]\n",
    "Min ω: [0.825, 0.6239916426990797]\n",
    "Min ω: [0.851, 0.7161106898022598]\n",
    "Min ω: [0.900, 0.9071364009489794]"
   ]
  }
 ],
 "metadata": {
  "kernelspec": {
   "display_name": "Julia 1.5.2",
   "language": "julia",
   "name": "julia-1.5"
  },
  "language_info": {
   "file_extension": ".jl",
   "mimetype": "application/julia",
   "name": "julia",
   "version": "1.5.2"
  }
 },
 "nbformat": 4,
 "nbformat_minor": 4
}
