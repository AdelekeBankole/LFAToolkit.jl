{
 "cells": [
  {
   "cell_type": "markdown",
   "metadata": {},
   "source": [
    "# Diffusion Example"
   ]
  },
  {
   "cell_type": "code",
   "execution_count": null,
   "metadata": {},
   "outputs": [],
   "source": [
    "# dependencies\n",
    "using LFAToolkit\n",
    "using LinearAlgebra\n",
    "using Pkg\n",
    "Pkg.activate(\"./\")\n",
    "Pkg.instantiate()\n",
    "using Plots"
   ]
  },
  {
   "cell_type": "code",
   "execution_count": null,
   "metadata": {},
   "outputs": [],
   "source": [
    "# setup\n",
    "p = 3\n",
    "dimension = 1\n",
    "\n",
    "mesh = []\n",
    "if dimension == 1\n",
    "   mesh = Mesh1D(1.0)\n",
    "elseif dimension == 2\n",
    "   mesh = Mesh2D(1.0, 1.0)\n",
    "end\n",
    "\n",
    "# operator\n",
    "diffusion = GalleryOperator(\"diffusion\", p, p, mesh)\n",
    "\n",
    "# Jacobi smoother\n",
    "jacobi = Jacobi(diffusion)"
   ]
  },
  {
   "cell_type": "code",
   "execution_count": null,
   "metadata": {},
   "outputs": [],
   "source": [
    "# compute full operator symbols\n",
    "numberruns = 250\n",
    "maxeigenvalue = 0\n",
    "θ_min = -(p - 1)π\n",
    "θ_max = (p - 1)π\n",
    "\n",
    "# compute and plot smoothing factor\n",
    "# -- 1D --\n",
    "if dimension == 1\n",
    "    # compute\n",
    "    maxeigenvalues = zeros(numberruns)\n",
    "\n",
    "    for i in 1:numberruns\n",
    "        θ = [θ_min + (θ_max - θ_min)*i/numberruns]\n",
    "        θ_plotting[i] = θ[1]/π\n",
    "        A = computesymbols(diffusion, θ)\n",
    "        eigenvalues = [abs(val) for val in eigvals(A)]\n",
    "        maxeigenvalues[i] = max(eigenvalues...)\n",
    "        maxeigenvalue = max(maxeigenvalue, maxeigenvalues[i])\n",
    "    end\n",
    "\n",
    "    # plot\n",
    "    println(\"max eigenvalue: \", maxeigenvalue)\n",
    "    xrange = θ_min/π:(θ_max - θ_min)/π/(numberruns-1):θ_max/π\n",
    "    plot(xrange, maxeigenvalues, title=\"Diffusion Symbols\")\n",
    "    ylims!(0.0, max(maxeigenvalues...))\n",
    "# -- 2D --\n",
    "elseif dimension == 2\n",
    "    # compute\n",
    "    θ_plotting_x = zeros(numberruns)\n",
    "    θ_plotting_y = zeros(numberruns)\n",
    "    maxeigenvalues = zeros(numberruns, numberruns)\n",
    "\n",
    "    for i in 1:numberruns, j in 1:numberruns\n",
    "        θ = [\n",
    "            θ_min + (θ_max - θ_min)*i/numberruns,\n",
    "            θ_min + (θ_max - θ_min)*j/numberruns\n",
    "        ]\n",
    "        A = computesymbols(diffusion, θ)\n",
    "        eigenvalues = [abs(val) for val in eigvals(A)]\n",
    "        maxeigenvalues[i, j] = max(eigenvalues...)\n",
    "        maxeigenvalue = max(maxeigenvalue, maxeigenvalues[i, j])\n",
    "    end\n",
    "\n",
    "    # plot\n",
    "    println(\"max eigenvalue: \", maxeigenvalue)\n",
    "    heatmap(maxeigenvalues, title=\"Diffusion Symbols\", transpose=true, aspect_ratio=:equal)\n",
    "    xlims!(1, numberruns)\n",
    "    ylims!(1, numberruns)\n",
    "end"
   ]
  }
 ],
 "metadata": {
  "kernelspec": {
   "display_name": "Julia 1.4.1",
   "language": "julia",
   "name": "julia-1.4"
  },
  "language_info": {
   "file_extension": ".jl",
   "mimetype": "application/julia",
   "name": "julia",
   "version": "1.4.1"
  }
 },
 "nbformat": 4,
 "nbformat_minor": 4
}
