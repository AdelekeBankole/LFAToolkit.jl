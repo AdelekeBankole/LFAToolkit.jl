{
 "cells": [
  {
   "cell_type": "markdown",
   "metadata": {},
   "source": [
    "# Lumped BDDC Example"
   ]
  },
  {
   "cell_type": "code",
   "execution_count": null,
   "metadata": {},
   "outputs": [],
   "source": [
    "# dependencies\n",
    "using Pkg\n",
    "Pkg.activate(\".\")\n",
    "Pkg.instantiate()\n",
    "Pkg.develop(path=\"../..\")\n",
    "using Plots\n",
    "using LFAToolkit\n",
    "using LinearAlgebra"
   ]
  },
  {
   "cell_type": "code",
   "execution_count": null,
   "metadata": {
    "code_folding": []
   },
   "outputs": [],
   "source": [
    "# setup\n",
    "p = 1\n",
    "mesh = Mesh2D(1.0, 1.0)\n",
    "numberelements1d = 4\n",
    "\n",
    "# operator\n",
    "diffusion = GalleryMacroElementOperator(\"diffusion\", p + 1, p + 2, numberelements1d, mesh);\n",
    "\n",
    "# bddc smoother\n",
    "bddc = LumpedBDDC(diffusion)"
   ]
  },
  {
   "cell_type": "code",
   "execution_count": null,
   "metadata": {
    "code_folding": [
     12,
     14,
     24
    ],
    "scrolled": false
   },
   "outputs": [],
   "source": [
    "# full operator symbols\n",
    "numbersteps = 150\n",
    "θ_min = -π/2\n",
    "θ_max = 3π/2\n",
    "θ_range = LinRange(θ_min, θ_max, numbersteps)\n",
    "\n",
    "# compute and plot smoothing factor\n",
    "# setup\n",
    "ω = [0.2]\n",
    "maxeigenvalues = zeros(numbersteps, numbersteps)\n",
    "\n",
    "# compute\n",
    "for i in 1:numbersteps, j in 1:numbersteps\n",
    "    θ = [θ_range[i], θ_range[j]]\n",
    "    if sqrt(abs(θ[1])^2 + abs(θ[2])^2) > π/128\n",
    "        A = computesymbols(bddc, ω, θ)\n",
    "        eigenvalues = [abs(val) for val in eigvals(I-A)]\n",
    "        maxeigenvalues[i, j] = maximum(eigenvalues)\n",
    "    end\n",
    "end\n",
    "\n",
    "# plot\n",
    "println(\"max eigenvalue: \", maximum(maxeigenvalues))\n",
    "xrange = θ_range/π\n",
    "heatmap(\n",
    "    xrange,\n",
    "    xlabel=\"θ/π\",\n",
    "    xtickfont=font(12, \"Courier\"),\n",
    "    xrange,\n",
    "    ylabel=\"θ/π\",\n",
    "    ytickfont=font(12, \"Courier\"),\n",
    "    maxeigenvalues,\n",
    "    title=\"Lumped BDDC Error Symbol\",\n",
    "    transpose=true,\n",
    "    aspect_ratio=:equal\n",
    ")\n",
    "xlims!(θ_min/π, θ_max/π)\n",
    "ylims!(θ_min/π, θ_max/π)"
   ]
  }
 ],
 "metadata": {
  "kernelspec": {
   "display_name": "Julia 1.6.1",
   "language": "julia",
   "name": "julia-1.6"
  },
  "language_info": {
   "file_extension": ".jl",
   "mimetype": "application/julia",
   "name": "julia",
   "version": "1.7.0"
  }
 },
 "nbformat": 4,
 "nbformat_minor": 4
}
