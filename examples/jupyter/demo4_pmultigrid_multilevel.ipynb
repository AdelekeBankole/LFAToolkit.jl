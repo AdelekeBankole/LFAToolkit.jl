{
 "cells": [
  {
   "cell_type": "markdown",
   "metadata": {},
   "source": [
    "# P-multigrid Example"
   ]
  },
  {
   "cell_type": "code",
   "execution_count": 1,
   "metadata": {},
   "outputs": [
    {
     "name": "stderr",
     "output_type": "stream",
     "text": [
      "\u001b[32m\u001b[1m Activating\u001b[22m\u001b[39m environment at `~/Dev/LFAToolkit.jl/examples/jupyter/Project.toml`\n"
     ]
    }
   ],
   "source": [
    "# dependencies\n",
    "using LFAToolkit\n",
    "using LinearAlgebra\n",
    "using Pkg\n",
    "Pkg.activate(\"./\")\n",
    "Pkg.instantiate()\n",
    "using Plots"
   ]
  },
  {
   "cell_type": "code",
   "execution_count": 12,
   "metadata": {},
   "outputs": [
    {
     "data": {
      "text/plain": [
       "p-multigrid preconditioner"
      ]
     },
     "execution_count": 12,
     "metadata": {},
     "output_type": "execute_result"
    }
   ],
   "source": [
    "# setup\n",
    "finep = 9\n",
    "midp5 = 5\n",
    "midp3 = 3\n",
    "coarsep = 2\n",
    "dimension = 2\n",
    "\n",
    "mesh = []\n",
    "if dimension == 1\n",
    "   mesh = Mesh1D(1.0)\n",
    "elseif dimension == 2\n",
    "   mesh = Mesh2D(1.0, 1.0)\n",
    "end\n",
    "\n",
    "mtofbasis5 = TensorH1LagrangeBasis(midp5, finep, dimension, lagrangequadrature=true)\n",
    "mtofbasis3 = TensorH1LagrangeBasis(midp3, midp5, dimension, lagrangequadrature=true)\n",
    "ctombasis = TensorH1LagrangeBasis(coarsep, midp3, dimension, lagrangequadrature=true)\n",
    "\n",
    "# diffusion operators\n",
    "finediffusion = GalleryOperator(\"diffusion\", finep, finep, mesh)\n",
    "middiffusion5 = GalleryOperator(\"diffusion\", midp5, finep, mesh)\n",
    "middiffusion3 = GalleryOperator(\"diffusion\", midp3, finep, mesh)\n",
    "coarsediffusion = GalleryOperator(\"diffusion\", coarsep, finep, mesh)\n",
    "\n",
    "# Jacobi smoother\n",
    "finejacobi = Jacobi(finediffusion)\n",
    "midjacobi5 = Jacobi(middiffusion5)\n",
    "midjacobi3 = Jacobi(middiffusion3)\n",
    "\n",
    "# p-multigrid preconditioner\n",
    "midmultigrid3 = PMultigrid(middiffusion3, coarsediffusion, midjacobi3, [ctombasis])\n",
    "midmultigrid5 = PMultigrid(middiffusion5, midmultigrid3, midjacobi5, [mtofbasis3])\n",
    "multigrid = PMultigrid(finediffusion, midmultigrid5, finejacobi, [mtofbasis5])"
   ]
  },
  {
   "cell_type": "code",
   "execution_count": 16,
   "metadata": {},
   "outputs": [
    {
     "name": "stdout",
     "output_type": "stream",
     "text": [
      "max eigenvalue: 0.27050859637097835\n"
     ]
    }
   ],
   "source": [
    "# full operator symbols\n",
    "numberruns = 170\n",
    "maxeigenvalue = 0\n",
    "θ_min = -π/2\n",
    "θ_max = 3π/2\n",
    "\n",
    "# compute and plot smoothing factor\n",
    "# -- 1D --\n",
    "if dimension == 1\n",
    "    # setup\n",
    "    ω = [0.576]\n",
    "    v = [2, 2]\n",
    "    maxeigenvalues = zeros(numberruns)\n",
    "\n",
    "    # compute\n",
    "    for i in 1:numberruns\n",
    "        θ = [θ_min + (θ_max - θ_min)*i/numberruns]\n",
    "        if abs(θ[1]  % 2π) % 2 >  π/32\n",
    "            A = computesymbols(multigrid, ω, v, θ)\n",
    "            eigenvalues = [abs(val) for val in eigvals(A)]\n",
    "            maxeigenvalues[i] = max(eigenvalues...)\n",
    "            maxeigenvalue = max(maxeigenvalue, maxeigenvalues[i])\n",
    "        end\n",
    "    end\n",
    "\n",
    "    # plot\n",
    "    println(\"max eigenvalue: \", maxeigenvalue)\n",
    "    xrange = θ_min/π:(θ_max - θ_min)/π/(numberruns-1):θ_max/π\n",
    "    plot(xrange, maxeigenvalues, title=\"P-Multigrid Symbols\")\n",
    "    ylims!(0.0, max(maxeigenvalues...))\n",
    "# -- 2D --\n",
    "elseif dimension == 2\n",
    "    # setup\n",
    "    ω = [0.795]\n",
    "    v = [3, 3]\n",
    "    maxeigenvalues = zeros(numberruns, numberruns)\n",
    "\n",
    "    # compute\n",
    "    for i in 1:numberruns, j in 1:numberruns\n",
    "        θ = [\n",
    "            θ_min + (θ_max - θ_min)*i/numberruns,\n",
    "            θ_min + (θ_max - θ_min)*j/numberruns\n",
    "        ]\n",
    "        if sqrt(abs(θ[1] % 2π)^2 + abs(θ[2] % 2π)^2) > π/128\n",
    "            A = computesymbols(multigrid, ω, v, θ)\n",
    "            eigenvalues = [abs(val) for val in eigvals(A)]\n",
    "            maxeigenvalues[i, j] = max(eigenvalues...)\n",
    "            maxeigenvalue = max(maxeigenvalue, maxeigenvalues[i, j])\n",
    "        end\n",
    "    end\n",
    "\n",
    "    # plot\n",
    "    println(\"max eigenvalue: \", maxeigenvalue)\n",
    "    xrange = θ_min/π:(θ_max - θ_min)/π/(numberruns-1):θ_max/π\n",
    "    heatmap(\n",
    "        xrange,\n",
    "        xrange,\n",
    "        maxeigenvalues,\n",
    "        title=\"Spectral Radius of P-Multigrid Symbol\",\n",
    "        transpose=true,\n",
    "        aspect_ratio=:equal\n",
    "    )\n",
    "    xlims!(θ_min/π, θ_max/π)\n",
    "    ylims!(θ_min/π, θ_max/π)\n",
    "    savefig(\"multigrid_spectral_radius_9_to_2_2d\")\n",
    "end"
   ]
  },
  {
   "cell_type": "code",
   "execution_count": null,
   "metadata": {},
   "outputs": [],
   "source": []
  }
 ],
 "metadata": {
  "kernelspec": {
   "display_name": "Julia 1.5.2",
   "language": "julia",
   "name": "julia-1.5"
  },
  "language_info": {
   "file_extension": ".jl",
   "mimetype": "application/julia",
   "name": "julia",
   "version": "1.5.2"
  }
 },
 "nbformat": 4,
 "nbformat_minor": 4
}
