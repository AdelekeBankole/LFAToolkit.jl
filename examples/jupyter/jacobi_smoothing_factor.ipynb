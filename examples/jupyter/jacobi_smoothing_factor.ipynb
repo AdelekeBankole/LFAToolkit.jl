{
 "cells": [
  {
   "cell_type": "markdown",
   "metadata": {},
   "source": [
    "# Jacobi Example"
   ]
  },
  {
   "cell_type": "code",
   "execution_count": 1,
   "metadata": {
    "scrolled": true
   },
   "outputs": [
    {
     "name": "stderr",
     "output_type": "stream",
     "text": [
      "\u001b[32m\u001b[1m Activating\u001b[22m\u001b[39m environment at `~/Dev/LFAToolkit.jl/examples/jupyter/Project.toml`\n"
     ]
    }
   ],
   "source": [
    "# dependencies\n",
    "using LFAToolkit\n",
    "using LinearAlgebra\n",
    "using Pkg\n",
    "Pkg.activate(\"./\")\n",
    "Pkg.instantiate()\n",
    "using Plots"
   ]
  },
  {
   "cell_type": "code",
   "execution_count": 4,
   "metadata": {},
   "outputs": [
    {
     "data": {
      "text/plain": [
       "jacobi preconditioner"
      ]
     },
     "execution_count": 4,
     "metadata": {},
     "output_type": "execute_result"
    }
   ],
   "source": [
    "# setup\n",
    "p = 5\n",
    "dimension = 1\n",
    "\n",
    "mesh = []\n",
    "if dimension == 1\n",
    "   mesh = Mesh1D(1.0)\n",
    "elseif dimension == 2\n",
    "   mesh = Mesh2D(1.0, 1.0)\n",
    "end\n",
    "\n",
    "basis = TensorH1LagrangeBasis(p, p, dimension)\n",
    "\n",
    "# operator\n",
    "diffusion = GalleryOperator(\"diffusion\", p, p, mesh)\n",
    "\n",
    "# Jacobi smoother\n",
    "jacobi = Jacobi(diffusion)"
   ]
  },
  {
   "cell_type": "code",
   "execution_count": 6,
   "metadata": {},
   "outputs": [
    {
     "name": "stdout",
     "output_type": "stream",
     "text": [
      "Min ω: [0.91, 0.9535811130495856]\n"
     ]
    }
   ],
   "source": [
    "# full operator symbols\n",
    "numberruns = 250\n",
    "maxeigenvalue = 0\n",
    "θ_min = -π/2\n",
    "θ_max = 3π/2\n",
    "ω_max = 1.25\n",
    "\n",
    "# compute and plot smoothing factor\n",
    "# -- 1D --\n",
    "if dimension == 1\n",
    "    # setup\n",
    "    smoothingfactor = zeros(numberruns)\n",
    "    ω_min = [0.0, 1.0]\n",
    "\n",
    "    # compute\n",
    "    for i in 1:numberruns\n",
    "        ω = [ω_max*i/numberruns]\n",
    "        for j in 1:numberruns\n",
    "            θ = [θ_min + (θ_max - θ_min)*j/numberruns]\n",
    "            if θ[1] > π/2\n",
    "                A = computesymbols(jacobi, ω, θ)\n",
    "                eigenvalues = [abs(val) for val in eigvals(A)]\n",
    "                smoothingfactor[i] = max(smoothingfactor[i], eigenvalues...)\n",
    "                if smoothingfactor[i] < ω_min[2]\n",
    "                    ω_min = [ω[1], smoothingfactor[i]]\n",
    "                end\n",
    "            end\n",
    "        end\n",
    "    end\n",
    "\n",
    "    # plot\n",
    "    println(\"Min ω: \", ω_min)\n",
    "    xrange = 0:ω_max/(numberruns-1):ω_max\n",
    "    plot(\n",
    "        xrange,\n",
    "        smoothingfactor,\n",
    "        xlabel=\"ω\",\n",
    "        xtickfont=font(12, \"Courier\"),\n",
    "        ylabel=\"spectral radius\",\n",
    "        ytickfont=font(12, \"Courier\"),\n",
    "        linewidth=3,\n",
    "        legend=:none,\n",
    "        title=\"Jacobi Smoothing Factor\"\n",
    "    )\n",
    "    ylims!(0.0, max(smoothingfactor...))\n",
    "    #savefig(\"jacobi_smoothing_5\")\n",
    "# -- 2D --\n",
    "elseif dimension == 2\n",
    "    # setup\n",
    "    ω = [1.0]\n",
    "    smoothingfactor = zeros(numberruns)\n",
    "    ω_min = [0.0, 1.0]\n",
    "\n",
    "    # compute\n",
    "    for i in 1:numberruns\n",
    "        ω = [ω_max*i/numberruns]\n",
    "        for j in 1:numberruns, k in 1:numberruns\n",
    "            θ = [\n",
    "                θ_min + (θ_max - θ_min)*j/numberruns,\n",
    "                θ_min + (θ_max - θ_min)*k/numberruns\n",
    "            ]\n",
    "            if θ[1] > π/2 || θ[2] > π/2\n",
    "                A = computesymbols(jacobi, ω, θ)\n",
    "                eigenvalues = [abs(val) for val in eigvals(A)]\n",
    "                smoothingfactor[i] = max(smoothingfactor[i], eigenvalues...)\n",
    "                if smoothingfactor[i] < ω_min[2]\n",
    "                    ω_min = [ω[1], smoothingfactor[i]]\n",
    "                end\n",
    "            end\n",
    "        end\n",
    "    end\n",
    "\n",
    "    # plot\n",
    "    xrange = 0:ω_max/(numberruns-1):ω_max\n",
    "    plot(xrange, smoothingfactor, title=\"Smoothing Factors\")\n",
    "    ylims!(0.0, max(smoothingfactor...))\n",
    "end"
   ]
  },
  {
   "cell_type": "code",
   "execution_count": null,
   "metadata": {},
   "outputs": [],
   "source": []
  }
 ],
 "metadata": {
  "kernelspec": {
   "display_name": "Julia 1.5.2",
   "language": "julia",
   "name": "julia-1.5"
  },
  "language_info": {
   "file_extension": ".jl",
   "mimetype": "application/julia",
   "name": "julia",
   "version": "1.5.2"
  }
 },
 "nbformat": 4,
 "nbformat_minor": 4
}
