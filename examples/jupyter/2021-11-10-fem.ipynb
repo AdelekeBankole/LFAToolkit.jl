{
 "cells": [
  {
   "cell_type": "markdown",
   "id": "3dba1684",
   "metadata": {
    "cell_style": "center",
    "slideshow": {
     "slide_type": "slide"
    }
   },
   "source": [
    "# 2021-11-10 Finite elements\n",
    "\n",
    "## Last time\n",
    "\n",
    "* Stable numerics\n",
    "* Galerkin optimality\n",
    "* Boundary conditions\n",
    "* Properties of Galerkin methods\n",
    "\n",
    "## Today\n",
    "\n",
    "* Element restriction\n",
    "* Finite element assembly\n",
    "* Nonlinear problems\n",
    "* LibCEED"
   ]
  },
  {
   "cell_type": "code",
   "execution_count": null,
   "id": "a4a0cd41",
   "metadata": {
    "slideshow": {
     "slide_type": "skip"
    }
   },
   "outputs": [],
   "source": [
    "using Plots\n",
    "using LinearAlgebra\n",
    "using SparseArrays\n",
    "using FastGaussQuadrature\n",
    "\n",
    "default(linewidth=4)\n",
    "\n",
    "function my_spy(A)\n",
    "    cmax = norm(vec(A), Inf)\n",
    "    s = max(1, ceil(120 / size(A, 1)))\n",
    "    spy(A, marker=(:square, s), c=:diverging_rainbow_bgymr_45_85_c67_n256, clims=(-cmax, cmax))\n",
    "end\n",
    "\n",
    "function vander_legendre_deriv(x, k=nothing)\n",
    "    if isnothing(k)\n",
    "        k = length(x) # Square by default\n",
    "    end\n",
    "    m = length(x)\n",
    "    Q = ones(m, k)\n",
    "    dQ = zeros(m, k)\n",
    "    Q[:, 2] = x\n",
    "    dQ[:, 2] .= 1\n",
    "    for n in 1:k-2\n",
    "        Q[:, n+2] = ((2*n + 1) * x .* Q[:, n+1] - n * Q[:, n]) / (n + 1)\n",
    "        dQ[:, n+2] = (2*n + 1) * Q[:,n+1] + dQ[:,n]\n",
    "    end\n",
    "    Q, dQ\n",
    "end\n",
    "\n",
    "function febasis(P, Q)\n",
    "    x, _ = gausslobatto(P)\n",
    "    q, w = gausslegendre(Q)\n",
    "    Pk, _ = vander_legendre_deriv(x)\n",
    "    Bp, Dp = vander_legendre_deriv(q, P)\n",
    "    B = Bp / Pk\n",
    "    D = Dp / Pk\n",
    "    x, q, w, B, D\n",
    "end"
   ]
  },
  {
   "cell_type": "markdown",
   "id": "4e012df5",
   "metadata": {
    "slideshow": {
     "slide_type": "slide"
    }
   },
   "source": [
    "![](../img/libCEED-2-trim.svg)"
   ]
  },
  {
   "cell_type": "markdown",
   "id": "8061be0c",
   "metadata": {
    "cell_style": "center",
    "slideshow": {
     "slide_type": "slide"
    }
   },
   "source": [
    "# General form\n",
    "$$ \\int_\\Omega v\\cdot f_0(u, \\nabla u) + \\nabla v\\cdot f_1(u, \\nabla u) = 0, \\quad \\forall v$$\n",
    "we discretize as\n",
    "$$ \\sum_e \\mathcal E_e^T \\Big( B^T W \\left\\lvert \\frac{\\partial x}{\\partial X} \\right\\rvert f_0(\\tilde u, \\nabla \\tilde u) + D^T \\left(\\frac{\\partial X}{\\partial x}\\right)^{T} W \\left\\lvert \\frac{\\partial x}{\\partial X} \\right\\rvert f_1(\\tilde u, \\nabla\\tilde u) \\Big) = 0 $$\n",
    "where $\\tilde u = B \\mathcal E_e u$ and $\\nabla \\tilde u = \\frac{\\partial X}{\\partial x} D \\mathcal E_e u$ are the values and gradients evaluated at quadrature points."
   ]
  },
  {
   "cell_type": "markdown",
   "id": "a04a2180",
   "metadata": {
    "cell_style": "split"
   },
   "source": [
    "## Isoparametric mapping\n",
    "\n",
    "Given the reference coordinates $X \\in \\hat K \\subset R^n$ and physical coordinates $x(X)$, an integral on the physical element can be written\n",
    "$$ \\int_{K = x(\\hat K)} f(x) dx = \\int_{\\hat K} \\underbrace{\\left\\lvert \\frac{\\partial x}{\\partial X} \\right\\rvert}_{\\text{determinant}} f(x(X)) dX .$$"
   ]
  },
  {
   "cell_type": "markdown",
   "id": "f81921c7",
   "metadata": {
    "slideshow": {
     "slide_type": "skip"
    }
   },
   "source": [
    "| Notation | Meaning |\n",
    "|---------|:-------------:|\n",
    "| $x$ | physical coordinates |\n",
    "| $X$ | reference coordinates |\n",
    "| $\\mathcal E_e$ | restriction from global vector to element $e$ |\n",
    "| $B$ | values of nodal basis functions at quadrature ponits on reference element |\n",
    "| $D$ | gradients of nodal basis functions at quadrature points on reference element|\n",
    "| $W$ | diagonal matrix of quadrature weights on reference element |\n",
    "| $\\frac{\\partial x}{\\partial X} = D \\mathcal E_e x $ | gradient of physical coordinates with respect to reference coordinates |\n",
    "| $\\left\\lvert \\frac{\\partial x}{\\partial X}\\right\\rvert$ | determinant of coordinate transformation at each quadrature point |\n",
    "| $\\frac{\\partial X}{\\partial x} = \\left(\\frac{\\partial x}{\\partial X}\\right)^{-1}$ | derivative of reference coordinates with respect to physical coordinates |"
   ]
  },
  {
   "cell_type": "markdown",
   "id": "a140a545",
   "metadata": {
    "slideshow": {
     "slide_type": "slide"
    }
   },
   "source": [
    "# Finite element mesh and restriction"
   ]
  },
  {
   "cell_type": "code",
   "execution_count": null,
   "id": "109306ab",
   "metadata": {
    "cell_style": "split"
   },
   "outputs": [],
   "source": [
    "function fe1_mesh(P, nelem)\n",
    "    x = LinRange(-1, 1, nelem+1)\n",
    "    rows = Int[]\n",
    "    cols = Int[]\n",
    "    for i in 1:nelem\n",
    "        append!(rows, (i-1)*P+1:i*P)\n",
    "        append!(cols, (i-1)*(P-1)+1:i*(P-1)+1)\n",
    "    end\n",
    "    x, sparse(cols, rows, ones(nelem*P))'\n",
    "end\n",
    "P, nelem = 4, 3\n",
    "x, E = fe1_mesh(P, nelem)\n",
    "sparse(E)"
   ]
  },
  {
   "cell_type": "code",
   "execution_count": null,
   "id": "9c5ffff5",
   "metadata": {
    "cell_style": "split"
   },
   "outputs": [],
   "source": [
    "function xnodal(x, P)\n",
    "    nelem = length(x) - 1\n",
    "    xn = Float64[]\n",
    "    xref, _ = gausslobatto(P)\n",
    "    for i in 1:nelem\n",
    "        xL, xR = x[i:i+1]\n",
    "        append!(xn, (xL+xR)/2 .+ (xR-xL)/2 * xref[1+(i>1):end])\n",
    "    end\n",
    "    xn\n",
    "end\n",
    "xn = xnodal(x, 4)\n",
    "scatter(xn, zero, marker=:auto)"
   ]
  },
  {
   "cell_type": "markdown",
   "id": "72c23be8",
   "metadata": {
    "slideshow": {
     "slide_type": "slide"
    }
   },
   "source": [
    "# Finite element building blocks"
   ]
  },
  {
   "cell_type": "code",
   "execution_count": null,
   "id": "c7a39135",
   "metadata": {
    "cell_style": "split",
    "slideshow": {
     "slide_type": ""
    }
   },
   "outputs": [],
   "source": [
    "struct FESpace\n",
    "    P::Int\n",
    "    Q::Int\n",
    "    nelem::Int\n",
    "    x::Vector\n",
    "    xn::Vector\n",
    "    Et::Adjoint{Float64, SparseMatrixCSC{Float64, Int64}}\n",
    "    q::Vector\n",
    "    w::Vector\n",
    "    B::Matrix\n",
    "    D::Matrix\n",
    "    function FESpace(P, Q, nelem)\n",
    "        x, Et = fe1_mesh(P, nelem)\n",
    "        xn = xnodal(x, P)\n",
    "        _, q, w, B, D = febasis(P, Q)\n",
    "        new(P, Q, nelem, x, xn, Et, q, w, B, D)\n",
    "    end\n",
    "end"
   ]
  },
  {
   "cell_type": "code",
   "execution_count": null,
   "id": "44ef27d9",
   "metadata": {
    "cell_style": "split",
    "slideshow": {
     "slide_type": ""
    }
   },
   "outputs": [],
   "source": [
    "function fe_element(fe, e)\n",
    "    xL, xR = fe.x[e:e+1]\n",
    "    q = (xL+xR)/2 .+ (xR-xL)/2*fe.q\n",
    "    w = (xR - xL)/2 * fe.w\n",
    "    E = fe.Et'[:, (e-1)*fe.P+1:e*fe.P]'\n",
    "    dXdx = ones(fe.Q) * 2 / (xR - xL)\n",
    "    q, w, E, dXdx\n",
    "end"
   ]
  },
  {
   "cell_type": "markdown",
   "id": "11bc0cda",
   "metadata": {
    "slideshow": {
     "slide_type": "slide"
    }
   },
   "source": [
    "# Finite element residual assembly\n",
    "$$ v^T F(u) \\sim \\int_\\Omega v\\cdot f_0(u, \\nabla u) + \\nabla v\\cdot f_1(u, \\nabla u) = 0, \\quad \\forall v$$\n",
    "$$ \\sum_e \\mathcal E_e^T \\Big( B^T W \\left\\lvert \\frac{\\partial x}{\\partial X} \\right\\rvert f_0(\\tilde u, \\nabla \\tilde u) + D^T \\left(\\frac{\\partial X}{\\partial x}\\right)^{T} W \\left\\lvert \\frac{\\partial x}{\\partial X} \\right\\rvert f_1(\\tilde u, \\nabla\\tilde u) \\Big) = 0 $$\n",
    "where $\\tilde u = B \\mathcal E_e u$ and $\\nabla \\tilde u = \\frac{\\partial X}{\\partial x} D \\mathcal E_e u$ are the values and gradients evaluated at quadrature points."
   ]
  },
  {
   "cell_type": "code",
   "execution_count": null,
   "id": "6066e3a7",
   "metadata": {
    "cell_style": "split",
    "slideshow": {
     "slide_type": ""
    }
   },
   "outputs": [],
   "source": [
    "kappa(x) = 0.6 .+ 0.4*sin(pi*x/2)\n",
    "fq(q, u, Du) = 0*u .- 1, kappa.(q) .* Du\n",
    "dfq(q, u, du, Du, Ddu) = 0*du, kappa.(q) .* Ddu\n",
    "\n",
    "function fe_residual(u_in, fe, fq; bci=[1], bcv=[1.])\n",
    "    u = copy(u_in); v = zero(u)\n",
    "    u[bci] = bcv\n",
    "    for e in 1:fe.nelem\n",
    "        q, w, E, dXdx = fe_element(fe, e)\n",
    "        B, D = fe.B, fe.D\n",
    "        ue = E * u\n",
    "        uq = B * ue\n",
    "        Duq = dXdx .* (D * ue)\n",
    "        f0, f1 = fq(q, uq, Duq)\n",
    "        ve = B' * (w .* f0) + D' * (dXdx .* w .* f1)\n",
    "        v += E' * ve\n",
    "    end\n",
    "    v[bci] = u_in[bci] - u[bci]\n",
    "    v\n",
    "end"
   ]
  },
  {
   "cell_type": "code",
   "execution_count": null,
   "id": "cf04d909",
   "metadata": {
    "cell_style": "split"
   },
   "outputs": [],
   "source": [
    "import NLsolve: nlsolve\n",
    "\n",
    "fe = FESpace(3, 3, 5)\n",
    "u0 = zero(fe.xn)\n",
    "sol = nlsolve(u -> fe_residual(u, fe, fq), u0; method=:newton)\n",
    "plot(fe.xn, sol.zero, marker=:auto)"
   ]
  },
  {
   "cell_type": "markdown",
   "id": "4fa8f8e9",
   "metadata": {
    "slideshow": {
     "slide_type": "slide"
    }
   },
   "source": [
    "# Finite element Jacobian assembly\n",
    "\n",
    "$$ v^T F(u) \\sim \\int_\\Omega v\\cdot f_0(u, \\nabla u) + \\nabla v\\cdot f_1(u, \\nabla u) = 0, \\quad \\forall v$$\n",
    "$$ v^T J(u) du \\sim \\int_\\Omega v\\cdot df_0(u, du, \\nabla u, \\nabla du) + \\nabla v\\cdot df_1(u, du, \\nabla u, \\nabla du) = 0, \\quad \\forall v$$"
   ]
  },
  {
   "cell_type": "code",
   "execution_count": null,
   "id": "de0b0f51",
   "metadata": {
    "cell_style": "split"
   },
   "outputs": [],
   "source": [
    "function fe_jacobian(u_in, fe, dfq; bci=[1], bcv=[1.])\n",
    "    u = copy(u_in); u[bci] = bcv\n",
    "    rows, cols, vals = Int[], Int[], Float64[]\n",
    "    for e in 1:fe.nelem\n",
    "        q, w, E, dXdx = fe_element(fe, e)\n",
    "        B, D, P = fe.B, fe.D, fe.P\n",
    "        ue = E * u\n",
    "        uq = B * ue; Duq = dXdx .* (D * ue)\n",
    "        K = zeros(P, P)\n",
    "        for j in 1:fe.P\n",
    "            du = B[:,j]\n",
    "            Ddu = dXdx .* D[:,j]\n",
    "            df0, df1 = dfq(q, uq, du, Duq, Ddu)\n",
    "            K[:,j] = B' * (w .* df0) + D' * (dXdx .* w .* df1)\n",
    "        end\n",
    "        inds = rowvals(E')\n",
    "        append!(rows, kron(ones(P), inds))\n",
    "        append!(cols, kron(inds, ones(P)))\n",
    "        append!(vals, vec(K))\n",
    "    end\n",
    "    A = sparse(rows, cols, vals)\n",
    "    A[bci, :] .= 0; A[:, bci] .= 0\n",
    "    A[bci,bci] = diagm(ones(length(bci)))\n",
    "    A\n",
    "end"
   ]
  },
  {
   "cell_type": "code",
   "execution_count": null,
   "id": "d585a0be",
   "metadata": {
    "cell_style": "split"
   },
   "outputs": [],
   "source": [
    "sol = nlsolve(u -> fe_residual(u, fe, fq),\n",
    "    u -> fe_jacobian(u, fe, dfq),\n",
    "    u0;\n",
    "    method=:newton)"
   ]
  },
  {
   "cell_type": "markdown",
   "id": "3e43ea8c",
   "metadata": {
    "slideshow": {
     "slide_type": "slide"
    }
   },
   "source": [
    "# Spy on the Jacobian"
   ]
  },
  {
   "cell_type": "code",
   "execution_count": null,
   "id": "8e87d631",
   "metadata": {
    "cell_style": "split"
   },
   "outputs": [],
   "source": [
    "#@show cond(Matrix(J))\n",
    "\n",
    "fe = FESpace(6, 6, 4)\n",
    "u0 = zero(fe.xn)\n",
    "J = fe_jacobian(u0, fe, dfq)\n",
    "my_spy(J)"
   ]
  },
  {
   "cell_type": "markdown",
   "id": "b6c7a911",
   "metadata": {
    "cell_style": "split"
   },
   "source": [
    "* What is interesting about this matrix structure?\n",
    "  * What would the matrix structure look like for a finite difference method that is 6th order accurate?"
   ]
  },
  {
   "cell_type": "markdown",
   "id": "969a3551",
   "metadata": {
    "slideshow": {
     "slide_type": "slide"
    }
   },
   "source": [
    "# Advection problem\n",
    "\n",
    "$$ \\int_\\Omega v \\cdot (Q_t) dv - \\int_\\Omega \\nabla v : F(Q) dv $$"
   ]
  },
  {
   "cell_type": "code",
   "execution_count": null,
   "id": "164d00ab",
   "metadata": {
    "cell_style": "split",
    "slideshow": {
     "slide_type": ""
    }
   },
   "outputs": [],
   "source": [
    "function fq(q, u, Du)\n",
    "    f0 = 0\n",
    "    f1 = u.* Du\n",
    "    f0, f1\n",
    "end\n",
    "function dfq(q, u, du, Du, Ddu)\n",
    "    df0 = 0*du\n",
    "    df1 = \n",
    "    df0, df1\n",
    "end\n",
    "sol = nlsolve(u -> fe_residual(u, fe, fq),\n",
    "    u -> fe_jacobian(u, fe, dfq),\n",
    "    u0; method=:newton)"
   ]
  },
  {
   "cell_type": "code",
   "execution_count": null,
   "id": "7f85ef28",
   "metadata": {
    "cell_style": "split",
    "scrolled": false
   },
   "outputs": [],
   "source": [
    "plot(fe.xn, sol.zero, marker=:auto)"
   ]
  },
  {
   "cell_type": "markdown",
   "id": "2c8f331c",
   "metadata": {
    "slideshow": {
     "slide_type": "slide"
    }
   },
   "source": [
    "# Advection-diffusion (time independent)\n",
    "\n",
    "\\begin{align}\n",
    "\\nabla\\cdot\\big[ \\mathbf w u - \\kappa \\nabla u \\big] &= 1 & \\int_\\Omega \\nabla v \\cdot \\Big[-\\mathbf w u + \\kappa \\nabla u \\big] &= \\int_\\Omega v 1, \\forall v\n",
    "\\end{align}"
   ]
  },
  {
   "cell_type": "code",
   "execution_count": null,
   "id": "2115b110",
   "metadata": {
    "slideshow": {
     "slide_type": ""
    }
   },
   "outputs": [],
   "source": [
    "wind = 50\n",
    "fq(q, u, Du) = -one.(u), -wind .* u + 1 * Du\n",
    "N = length(fe.xn)\n",
    "sol = nlsolve(u -> fe_residual(u, fe, fq; bci=[1, N], bcv=[0, 0]), zero(fe.xn), method=:newton)\n",
    "plot(fe.xn, sol.zero, marker=:auto)"
   ]
  },
  {
   "cell_type": "markdown",
   "id": "788dab62",
   "metadata": {
    "slideshow": {
     "slide_type": "slide"
    }
   },
   "source": [
    "# LibCEED"
   ]
  },
  {
   "cell_type": "code",
   "execution_count": null,
   "id": "d3f12b4a",
   "metadata": {},
   "outputs": [],
   "source": [
    "using LibCEED\n",
    "\n",
    "ceed = Ceed()"
   ]
  },
  {
   "cell_type": "code",
   "execution_count": null,
   "id": "889b7627",
   "metadata": {
    "cell_style": "split"
   },
   "outputs": [],
   "source": [
    "function fe1_ceed(ceed, P, nelem)\n",
    "    offsets = CeedInt[]\n",
    "    # libceed uses 0-based indexing\n",
    "    for e in 0:nelem-1\n",
    "        append!(offsets, e*(P-1):(e+1)*(P-1))\n",
    "    end\n",
    "    E = create_elem_restriction(ceed, nelem, P, 1, 1, nelem*(P-1)+1, offsets)\n",
    "end\n",
    "\n",
    "P, Q, nelem = 5, 5, 4\n",
    "E = fe1_ceed(ceed, P, nelem)"
   ]
  },
  {
   "cell_type": "code",
   "execution_count": null,
   "id": "27a9a266",
   "metadata": {
    "cell_style": "split"
   },
   "outputs": [],
   "source": [
    "basis = create_tensor_h1_lagrange_basis(ceed, 1, 1, P, Q, GAUSS)"
   ]
  },
  {
   "cell_type": "markdown",
   "id": "c0a70b50",
   "metadata": {
    "slideshow": {
     "slide_type": "slide"
    }
   },
   "source": [
    "# libCEED `QFunction` and `Operator`\n",
    "\n",
    "\\begin{gather*}\n",
    "    v^T F(u) \\sim \\int_\\Omega v \\cdot \\color{olive}{f_0(u, \\nabla u)} + \\nabla v \\!:\\! \\color{olive}{f_1(u, \\nabla u)} \\quad\n",
    "    v^T J w \\sim \\int_\\Omega \\begin{bmatrix} v \\\\ \\nabla v \\end{bmatrix}^T \\color{teal}{\\begin{bmatrix} f_{0,0} & f_{0,1} \\\\ f_{1,0} & f_{1,1} \\end{bmatrix}}\n",
    "    \\begin{bmatrix} w \\\\ \\nabla w \\end{bmatrix} \\\\\n",
    "    u = B_I \\mathcal E_e u_L \\qquad \\nabla u = \\frac{\\partial X}{\\partial x} B_{\\nabla} \\mathcal E_e u_L \\\\\n",
    "    J w = \\sum_e \\mathcal E_e^T \\begin{bmatrix} B_I \\\\ B_{\\nabla} \\end{bmatrix}^T\n",
    "    \\underbrace{\\begin{bmatrix} I & \\\\ & \\left( \\frac{\\partial X}{\\partial x}\\right)^T \\end{bmatrix} W_q \\color{teal}{\\begin{bmatrix} f_{0,0} & f_{0,1} \\\\ f_{1,0} & f_{1,1} \\end{bmatrix}} \\begin{bmatrix} I & \\\\ & \\left( \\frac{\\partial X}{\\partial x}\\right) \\end{bmatrix}}_{\\text{coefficients at quadrature points}} \\begin{bmatrix} B_I \\\\ B_{\\nabla} \\end{bmatrix} \\mathcal E_e w_L\n",
    "\\end{gather*}"
   ]
  },
  {
   "cell_type": "code",
   "execution_count": null,
   "id": "8f2290e0",
   "metadata": {
    "cell_style": "split"
   },
   "outputs": [],
   "source": [
    "@interior_qf setup_geom = (\n",
    "    ceed, dim=1,\n",
    "    (dxdX, :in, EVAL_GRAD, 1),\n",
    "    (w, :in, EVAL_WEIGHT),\n",
    "    (qdata, :out, EVAL_NONE, 1, 2),\n",
    "    begin\n",
    "        qdata[1] = w * abs(dxdX[1])\n",
    "        qdata[2] = w / abs(dxdX[1])\n",
    "    end\n",
    ")"
   ]
  },
  {
   "cell_type": "code",
   "execution_count": null,
   "id": "48bea097",
   "metadata": {
    "cell_style": "split"
   },
   "outputs": [],
   "source": [
    "@interior_qf apply_diff = (\n",
    "    ceed, dim=1,\n",
    "    (qdata, :in, EVAL_NONE, 2),\n",
    "    (dudX, :in, EVAL_GRAD, 1),\n",
    "    (v, :out, EVAL_INTERP, 1),\n",
    "    (dvdX, :out, EVAL_GRAD, 1),\n",
    "    begin\n",
    "        v .= qdata[1] * -1\n",
    "        dvdX .= qdata[2] * dudX\n",
    "    end\n",
    ")"
   ]
  },
  {
   "cell_type": "markdown",
   "id": "0de28d37",
   "metadata": {
    "slideshow": {
     "slide_type": "slide"
    }
   },
   "source": [
    "# Wire up restrictions and operators"
   ]
  },
  {
   "cell_type": "code",
   "execution_count": null,
   "id": "f6808625",
   "metadata": {
    "cell_style": "split"
   },
   "outputs": [],
   "source": [
    "qdata = CeedVector(ceed, nelem*Q*2)\n",
    "x = CeedVector(ceed, nelem+1)\n",
    "x[] = LinRange(-1, 1, nelem+1)\n",
    "Ex = fe1_ceed(ceed, 2, nelem)\n",
    "Eq = create_elem_restriction_strided(ceed, nelem, Q, 2, nelem*Q*2, STRIDES_BACKEND)\n",
    "Bx = create_tensor_h1_lagrange_basis(ceed, 1, 1, 2, Q, GAUSS)\n",
    "\n",
    "op_setup = Operator(ceed, qf=setup_geom, fields=[\n",
    "        (:dxdX, Ex, Bx, CeedVectorActive()),\n",
    "        (:w, ElemRestrictionNone(), Bx, CeedVectorNone()),\n",
    "        (:qdata, Eq, BasisCollocated(), CeedVectorActive()),\n",
    "        ])"
   ]
  },
  {
   "cell_type": "code",
   "execution_count": null,
   "id": "eeac9dbb",
   "metadata": {
    "cell_style": "split"
   },
   "outputs": [],
   "source": [
    "apply!(op_setup, x, qdata)\n",
    "\n",
    "op_diff = Operator(ceed, qf=apply_diff, fields=[\n",
    "        (:qdata, Eq, BasisCollocated(), qdata),\n",
    "        (:dudX, E, basis, CeedVectorActive()),\n",
    "        (:v, E, basis, CeedVectorActive()),\n",
    "        (:dvdX, E, basis, CeedVectorActive()),\n",
    "        ])"
   ]
  },
  {
   "cell_type": "markdown",
   "id": "e5b2188f",
   "metadata": {
    "slideshow": {
     "slide_type": "slide"
    }
   },
   "source": [
    "# Solve"
   ]
  },
  {
   "cell_type": "code",
   "execution_count": null,
   "id": "0c8b83b9",
   "metadata": {
    "cell_style": "split"
   },
   "outputs": [],
   "source": [
    "function ceed_residual(u_in, op_diff; bci=[1], bcv=[1.])\n",
    "    u = copy(u_in); v = zero(u)\n",
    "    u[bci] = bcv\n",
    "    uceed = CeedVector(ceed, length(u))\n",
    "    setarray!(uceed, MEM_HOST, USE_POINTER, u)\n",
    "    vceed = CeedVector(ceed, length(u))\n",
    "    apply!(op_diff, uceed, vceed)\n",
    "    v = witharray(Vector, vceed)\n",
    "    v[bci] = u_in[bci] - u[bci]\n",
    "    v\n",
    "end\n",
    "\n",
    "N = getlvectorsize(E)\n",
    "sol = nlsolve(u -> ceed_residual(u, op_diff; bci=[1, N], bcv=[0, 0]), ones(N), method=:newton)"
   ]
  },
  {
   "cell_type": "code",
   "execution_count": null,
   "id": "a44a2ba4",
   "metadata": {
    "cell_style": "split"
   },
   "outputs": [],
   "source": [
    "plot(sol.zero, marker=:auto)"
   ]
  },
  {
   "cell_type": "markdown",
   "id": "015a6821",
   "metadata": {},
   "source": [
    "* Why is this figure weird?\n",
    "  * How are the x nodes spaced, and how should they be spaced?"
   ]
  },
  {
   "cell_type": "code",
   "execution_count": null,
   "id": "de168123",
   "metadata": {},
   "outputs": [],
   "source": []
  }
 ],
 "metadata": {
  "celltoolbar": "Slideshow",
  "interpreter": {
   "hash": "31f2aee4e71d21fbe5cf8b01ff0e069b9275f58929596ceb00d14d90e3e16cd6"
  },
  "kernelspec": {
   "display_name": "Julia 1.7.0",
   "language": "julia",
   "name": "julia-1.7"
  },
  "language_info": {
   "file_extension": ".jl",
   "mimetype": "application/julia",
   "name": "julia",
   "version": "1.7.0"
  },
  "rise": {
   "enable_chalkboard": true
  }
 },
 "nbformat": 4,
 "nbformat_minor": 5
}
