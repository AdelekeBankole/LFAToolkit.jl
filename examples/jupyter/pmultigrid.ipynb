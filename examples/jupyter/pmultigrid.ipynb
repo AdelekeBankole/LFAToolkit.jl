{
 "cells": [
  {
   "cell_type": "markdown",
   "metadata": {},
   "source": [
    "# P-multigrid Example"
   ]
  },
  {
   "cell_type": "code",
   "execution_count": null,
   "metadata": {},
   "outputs": [],
   "source": [
    "# dependencies\n",
    "using LFAToolkit\n",
    "using LinearAlgebra\n",
    "using Plots"
   ]
  },
  {
   "cell_type": "code",
   "execution_count": null,
   "metadata": {},
   "outputs": [],
   "source": [
    "# setup\n",
    "dimension = 2\n",
    "finep = 3\n",
    "coarsep = 5\n",
    "mesh = []\n",
    "if dimension == 1\n",
    "   mesh = Mesh1D(1.0)\n",
    "elseif dimension == 2\n",
    "   mesh = Mesh2D(1.0, 1.0)\n",
    "end\n",
    "finebasis = TensorH1LagrangeBasis(finep, finep+1, dimension)\n",
    "coarsebasis = TensorH1LagrangeBasis(coarsep, finep+1, dimension)\n",
    "lagrangequadrature = true\n",
    "ctofbasis = TensorH1LagrangeBasis(coarsep, finep, dimension, lagrangequadrature)\n",
    "\n",
    "function diffusionweakform(du::Array{Float64}, w::Array{Float64})\n",
    "    dv = du*w[1]\n",
    "    return [dv]\n",
    "end\n",
    "\n",
    "# fine grid diffusion operator\n",
    "fineinputs = [\n",
    "    OperatorField(finebasis, [EvaluationMode.gradient]),\n",
    "    OperatorField(finebasis, [EvaluationMode.quadratureweights]),\n",
    "]\n",
    "fineoutputs = [OperatorField(finebasis, [EvaluationMode.gradient])]\n",
    "finediffusion = Operator(diffusionweakform, mesh, fineinputs, fineoutputs)\n",
    "\n",
    "# coarse grid diffusion operator\n",
    "coarseinputs = [\n",
    "    OperatorField(coarsebasis, [EvaluationMode.gradient]),\n",
    "    OperatorField(coarsebasis, [EvaluationMode.quadratureweights]),\n",
    "]\n",
    "coarseoutputs = [OperatorField(coarsebasis, [EvaluationMode.gradient])]\n",
    "coarsediffusion = Operator(diffusionweakform, mesh, coarseinputs, coarseoutputs)\n",
    "\n",
    "# Jacobi smoother\n",
    "jacobi = Jacobi(finediffusion)\n",
    "\n",
    "# p-multigrid preconditioner\n",
    "multigrid = PMultigrid(finediffusion, coarsediffusion, jacobi, [ctofbasis])"
   ]
  },
  {
   "cell_type": "code",
   "execution_count": null,
   "metadata": {},
   "outputs": [],
   "source": [
    "# compute operator symbols\n",
    "numberruns = 100\n",
    "\n",
    "# compute and plot smoothing factor\n",
    "if dimension == 1\n",
    "    # compute\n",
    "    maxeigenvalues = zeros(numberruns)\n",
    "    for i in 1:numberruns\n",
    "        A = computesymbols(multigrid, [0.838], [1, 1], [π/finep+((2finep-1)π/finep-π/finep)*(i/numberruns)])\n",
    "        eigenvalues = [abs(val) for val in eigvals(A)]\n",
    "        maxeigenvalues[i] = max(eigenvalues...)\n",
    "    end\n",
    "\n",
    "    # plot\n",
    "    plot(maxeigenvalues, title=\"P-Multigrid Symbols\")\n",
    "elseif dimension == 2\n",
    "    # compute\n",
    "    maxeigenvalues = zeros(numberruns, numberruns)\n",
    "    for i in 1:numberruns, j in 1:numberruns\n",
    "        A = computesymbols(multigrid, [0.838], [1, 1], [π/finep+((2finep-1)π/finep-π/finep)*(i/numberruns), π/finep+((2finep-1)π/finep-π/finep)*(j/numberruns)])\n",
    "        eigenvalues = [abs(val) for val in eigvals(A)]\n",
    "        maxeigenvalues[i, j] = max(eigenvalues...)\n",
    "    end\n",
    "\n",
    "    # plot\n",
    "    heatmap(maxeigenvalues, title=\"P-Multigrid Symbols\", transpose=true)\n",
    "end"
   ]
  }
 ],
 "metadata": {
  "kernelspec": {
   "display_name": "Julia 1.5.1",
   "language": "julia",
   "name": "julia-1.5"
  },
  "language_info": {
   "file_extension": ".jl",
   "mimetype": "application/julia",
   "name": "julia",
   "version": "1.5.1"
  }
 },
 "nbformat": 4,
 "nbformat_minor": 4
}
