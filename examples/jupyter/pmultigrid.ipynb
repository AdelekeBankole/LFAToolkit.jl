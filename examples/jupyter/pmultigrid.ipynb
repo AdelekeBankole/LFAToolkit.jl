{
 "cells": [
  {
   "cell_type": "markdown",
   "metadata": {},
   "source": [
    "# P-multigrid Example"
   ]
  },
  {
   "cell_type": "code",
   "execution_count": null,
   "metadata": {},
   "outputs": [],
   "source": [
    "# dependencies\n",
    "using LFAToolkit\n",
    "using LinearAlgebra\n",
    "using Plots"
   ]
  },
  {
   "cell_type": "code",
   "execution_count": null,
   "metadata": {},
   "outputs": [],
   "source": [
    "# setup\n",
    "mesh = Mesh2D(1.0, 1.0)\n",
    "finebasis = TensorH1LagrangeBasis(5, 5, 2)\n",
    "coarsebasis = TensorH1LagrangeBasis(3, 5, 2)\n",
    "lagrangequadrature = true\n",
    "ctofbasis = TensorH1LagrangeBasis(3, 5, 2, lagrangequadrature)\n",
    "\n",
    "function diffusionweakform(du::Array{Float64}, w::Array{Float64})\n",
    "    dv = du*w[1]\n",
    "    return [dv]\n",
    "end\n",
    "\n",
    "# fine grid diffusion operator\n",
    "fineinputs = [\n",
    "    OperatorField(finebasis, [EvaluationMode.gradient]),\n",
    "    OperatorField(finebasis, [EvaluationMode.quadratureweights]),\n",
    "]\n",
    "fineoutputs = [OperatorField(finebasis, [EvaluationMode.gradient])]\n",
    "finediffusion = Operator(diffusionweakform, mesh, fineinputs, fineoutputs)\n",
    "\n",
    "# coarse grid diffusion operator\n",
    "coarseinputs = [\n",
    "    OperatorField(coarsebasis, [EvaluationMode.gradient]),\n",
    "    OperatorField(coarsebasis, [EvaluationMode.quadratureweights]),\n",
    "]\n",
    "coarseoutputs = [OperatorField(coarsebasis, [EvaluationMode.gradient])]\n",
    "coarsediffusion = Operator(diffusionweakform, mesh, coarseinputs, coarseoutputs)\n",
    "\n",
    "# Jacobi smoother\n",
    "jacobi = Jacobi(finediffusion)\n",
    "\n",
    "# p-multigrid preconditioner\n",
    "multigrid = PMultigrid(finediffusion, coarsediffusion, jacobi, [ctofbasis])"
   ]
  },
  {
   "cell_type": "code",
   "execution_count": null,
   "metadata": {},
   "outputs": [],
   "source": [
    "# compute operator symbols\n",
    "numberruns = 100\n",
    "maxeigenvalues = zeros(numberruns, numberruns)\n",
    "\n",
    "for i in 1:numberruns, j in 1:numberruns\n",
    "    A = computesymbols(multigrid, [0.7], [1, 1], [2π*(i/numberruns), 2π*(j/numberruns)])\n",
    "    eigenvalues = [abs(val) for val in eigvals(A)]\n",
    "    maxeigenvalues[i, j] = max(eigenvalues...)\n",
    "end\n",
    "\n",
    "# plot\n",
    "heatmap(maxeigenvalues, title=\"Multigrid Symbols\", transpose=true)"
   ]
  }
 ],
 "metadata": {
  "kernelspec": {
   "display_name": "Julia 1.5.1",
   "language": "julia",
   "name": "julia-1.5"
  },
  "language_info": {
   "file_extension": ".jl",
   "mimetype": "application/julia",
   "name": "julia",
   "version": "1.5.1"
  }
 },
 "nbformat": 4,
 "nbformat_minor": 4
}
