{
 "cells": [
  {
   "cell_type": "markdown",
   "metadata": {},
   "source": [
    "# Diffusion Example"
   ]
  },
  {
   "cell_type": "code",
   "execution_count": null,
   "metadata": {},
   "outputs": [],
   "source": [
    "# dependencies\n",
    "using LFAToolkit\n",
    "using LinearAlgebra\n",
    "using Pkg\n",
    "Pkg.activate(\"./\")\n",
    "Pkg.instantiate()\n",
    "using Plots"
   ]
  },
  {
   "cell_type": "code",
   "execution_count": null,
   "metadata": {},
   "outputs": [],
   "source": [
    "# setup\n",
    "p = 2\n",
    "dimension = 1\n",
    "mesh = Mesh1D(1.0)\n",
    "basis = TensorH1LagrangeBasis(p, p + 1, dimension, lagrangequadrature=true)\n",
    "\n",
    "# operator\n",
    "function advectionweakform(du::Array{Float64}, w::Array{Float64})\n",
    "    v = du*w[1]\n",
    "    return [v]\n",
    "end\n",
    "\n",
    "inputs = [\n",
    "    OperatorField(basis, [EvaluationMode.gradient]),\n",
    "    OperatorField(basis, [EvaluationMode.quadratureweights]),\n",
    "];\n",
    "outputs = [OperatorField(basis, [EvaluationMode.interpolation])];\n",
    "advection = Operator(advectionweakform, mesh, inputs, outputs);"
   ]
  },
  {
   "cell_type": "code",
   "execution_count": null,
   "metadata": {},
   "outputs": [],
   "source": [
    "# compute full operator symbols\n",
    "numberruns = 250\n",
    "maxeigenvalue = 0\n",
    "θ_min = 0\n",
    "θ_max = 2π\n",
    "\n",
    "# compute and plot smoothing factor\n",
    "# compute\n",
    "maxeigenvalues = zeros(numberruns)\n",
    "\n",
    "for i in 1:numberruns\n",
    "    θ = [θ_min + (θ_max - θ_min)*i/numberruns]\n",
    "    A = computesymbols(advection, θ)\n",
    "    eigenvalues = [abs(val) for val in eigvals(A)]\n",
    "    maxeigenvalues[i] = max(eigenvalues...)\n",
    "    maxeigenvalue = max(maxeigenvalue, maxeigenvalues[i])\n",
    "end\n",
    "\n",
    "# plot\n",
    "println(\"max eigenvalue: \", maxeigenvalue)\n",
    "xrange = θ_min/π:(θ_max - θ_min)/π/(numberruns-1):θ_max/π\n",
    "plot(xrange, maxeigenvalues, title=\"Advection Symbols\")"
   ]
  }
 ],
 "metadata": {
  "kernelspec": {
   "display_name": "Julia 1.4.1",
   "language": "julia",
   "name": "julia-1.4"
  },
  "language_info": {
   "file_extension": ".jl",
   "mimetype": "application/julia",
   "name": "julia",
   "version": "1.4.1"
  }
 },
 "nbformat": 4,
 "nbformat_minor": 4
}
