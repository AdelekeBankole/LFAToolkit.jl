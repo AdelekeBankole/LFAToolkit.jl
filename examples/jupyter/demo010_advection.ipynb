{
 "cells": [
  {
   "cell_type": "markdown",
   "metadata": {},
   "source": [
    "# Advection Example"
   ]
  },
  {
   "cell_type": "code",
   "execution_count": 1,
   "metadata": {},
   "outputs": [
    {
     "name": "stderr",
     "output_type": "stream",
     "text": [
      "\u001b[32m\u001b[1m  Activating\u001b[22m\u001b[39m project at `~/Projects/LFAToolkit.jl/examples/jupyter`\n",
      "\u001b[32m\u001b[1m   Resolving\u001b[22m\u001b[39m package versions...\n",
      "\u001b[32m\u001b[1m  No Changes\u001b[22m\u001b[39m to `~/Projects/LFAToolkit.jl/examples/jupyter/Project.toml`\n",
      "\u001b[32m\u001b[1m  No Changes\u001b[22m\u001b[39m to `~/Projects/LFAToolkit.jl/examples/jupyter/Manifest.toml`\n"
     ]
    }
   ],
   "source": [
    "# dependencies\n",
    "using Pkg\n",
    "Pkg.activate(\"./\")\n",
    "Pkg.instantiate()\n",
    "Pkg.develop(path=\"../..\")\n",
    "using Plots\n",
    "using LFAToolkit\n",
    "using LinearAlgebra "
   ]
  },
  {
   "cell_type": "code",
   "execution_count": 2,
   "metadata": {},
   "outputs": [
    {
     "ename": "TypeError",
     "evalue": "TypeError: in keyword argument mapping, expected Function, got a value of type Tuple{LFAToolkit.var\"#g#27\"{Float64, LFAToolkit.var\"#gu#25\"{Float64, Float64, Float64}}, LFAToolkit.var\"#gprime#28\"{Float64, LFAToolkit.var\"#gprimeu#26\"{Float64, Float64, Float64}, Float64}}",
     "output_type": "error",
     "traceback": [
      "TypeError: in keyword argument mapping, expected Function, got a value of type Tuple{LFAToolkit.var\"#g#27\"{Float64, LFAToolkit.var\"#gu#25\"{Float64, Float64, Float64}}, LFAToolkit.var\"#gprime#28\"{Float64, LFAToolkit.var\"#gprimeu#26\"{Float64, Float64, Float64}, Float64}}\n",
      "\n",
      "Stacktrace:\n",
      "  [1] top-level scope\n",
      "    @ ~/Projects/LFAToolkit.jl/examples/jupyter/demo010_advection.ipynb:15\n",
      "  [2] eval\n",
      "    @ ./boot.jl:373 [inlined]\n",
      "  [3] include_string(mapexpr::typeof(REPL.softscope), mod::Module, code::String, filename::String)\n",
      "    @ Base ./loading.jl:1196\n",
      "  [4] #invokelatest#2\n",
      "    @ ./essentials.jl:716 [inlined]\n",
      "  [5] invokelatest\n",
      "    @ ./essentials.jl:714 [inlined]\n",
      "  [6] (::VSCodeServer.var\"#164#165\"{VSCodeServer.NotebookRunCellArguments, String})()\n",
      "    @ VSCodeServer ~/.vscode/extensions/julialang.language-julia-1.6.24/scripts/packages/VSCodeServer/src/serve_notebook.jl:19\n",
      "  [7] withpath(f::VSCodeServer.var\"#164#165\"{VSCodeServer.NotebookRunCellArguments, String}, path::String)\n",
      "    @ VSCodeServer ~/.vscode/extensions/julialang.language-julia-1.6.24/scripts/packages/VSCodeServer/src/repl.jl:184\n",
      "  [8] notebook_runcell_request(conn::VSCodeServer.JSONRPC.JSONRPCEndpoint{Base.PipeEndpoint, Base.PipeEndpoint}, params::VSCodeServer.NotebookRunCellArguments)\n",
      "    @ VSCodeServer ~/.vscode/extensions/julialang.language-julia-1.6.24/scripts/packages/VSCodeServer/src/serve_notebook.jl:13\n",
      "  [9] dispatch_msg(x::VSCodeServer.JSONRPC.JSONRPCEndpoint{Base.PipeEndpoint, Base.PipeEndpoint}, dispatcher::VSCodeServer.JSONRPC.MsgDispatcher, msg::Dict{String, Any})\n",
      "    @ VSCodeServer.JSONRPC ~/.vscode/extensions/julialang.language-julia-1.6.24/scripts/packages/JSONRPC/src/typed.jl:67\n",
      " [10] serve_notebook(pipename::String, outputchannel_logger::Base.CoreLogging.SimpleLogger; crashreporting_pipename::String)\n",
      "    @ VSCodeServer ~/.vscode/extensions/julialang.language-julia-1.6.24/scripts/packages/VSCodeServer/src/serve_notebook.jl:136\n",
      " [11] top-level scope\n",
      "    @ ~/.vscode/extensions/julialang.language-julia-1.6.24/scripts/notebook/notebook.jl:32\n",
      " [12] include(mod::Module, _path::String)\n",
      "    @ Base ./Base.jl:418\n",
      " [13] exec_options(opts::Base.JLOptions)\n",
      "    @ Base ./client.jl:292\n",
      " [14] _start()\n",
      "    @ Base ./client.jl:495"
     ]
    }
   ],
   "source": [
    "# setup\n",
    "p = 4\n",
    "dimension = 1\n",
    "mapping = hale_trefethen_strip_transformation(1.4)\n",
    "\n",
    "\n",
    "mesh = []\n",
    "if dimension == 1\n",
    "   mesh = Mesh1D(1.0)\n",
    "elseif dimension == 2\n",
    "   mesh = Mesh2D(1.0, 1.0)\n",
    "end\n",
    "\n",
    "# operator\n",
    "mass = GalleryOperator(\"mass\", p + 1, p + 1, mesh, mapping = mapping)\n",
    "advection = GalleryOperator(\"advection\", p + 1, p + 1, mesh, mapping = mapping)"
   ]
  },
  {
   "cell_type": "code",
   "execution_count": null,
   "metadata": {},
   "outputs": [],
   "source": [
    "# compute full operator symbols\n",
    "numbersteps = 100\n",
    "maxeigenvalue = 0\n",
    "θ_min = 0\n",
    "θ_max = (p-1) * π\n",
    "θ_range = LinRange(θ_min, θ_max, numbersteps)\n",
    "\n",
    "# compute and plot smoothing factor\n",
    "# -- 1D --\n",
    "if dimension == 1\n",
    "    # compute\n",
    "    maxeigenvalues = zeros(numbersteps)\n",
    "    mineigenvalues = zeros(numbersteps)\n",
    "    for i in 1:numbersteps    \n",
    "        θ = [θ_range[i]]\n",
    "        A = computesymbols(advection, θ) * 2\n",
    "        M = computesymbols(mass, θ)\n",
    "        eigenvalues = hcat(sort(imag.(eigvals(-M\\A)))...)'\n",
    "        maxeigenvalues[i] = max(eigenvalues...)\n",
    "        mineigenvalues[i] = min(eigenvalues...)\n",
    "        maxeigenvalue = max(maxeigenvalue, maxeigenvalues[i])\n",
    "    end\n",
    "\n",
    "    # plot\n",
    "    println(\"max eigenvalue: \", maximum(maxeigenvalues))\n",
    "    xrange = θ_range/π\n",
    "    plot(\n",
    "        xrange,\n",
    "        xlabel=\"θ/π\",\n",
    "        xtickfont=font(12, \"Courier\"),\n",
    "        [maxeigenvalues, mineigenvalues, π*xrange],\n",
    "        ytickfont=font(12, \"Courier\"),\n",
    "        ylabel=\"spectral radius\",\n",
    "        linewidth=3,\n",
    "        label=[\"Maximum λ\" \"Minimum λ\" \"θ\"],\n",
    "        title=\"Advection Operator Symbol Maximal Eigenvalues\"\n",
    "    )\n",
    "    ymin = minimum(mineigenvalues)\n",
    "    ylims!(minimum([0, ymin * 1.1]), maximum(maxeigenvalues) * 1.1)\n",
    "# -- 2D --\n",
    "elseif dimension == 2\n",
    "    # compute\n",
    "    \n",
    "\n",
    "    (_, eigenvalues, _) = computesymbolsoverrange(advection, numbersteps, mass=mass)\n",
    "    maxeigenvalues = reshape(maximum(real(eigenvalues); dims=2), (numbersteps, numbersteps))\n",
    "    mineigenvalues = reshape(minimum(real(eigenvalues); dims=2), (numbersteps, numbersteps))\n",
    "\n",
    "    # plot\n",
    "    println(\"max eigenvalue: \", maximum(maxeigenvalues))\n",
    "    xrange = θ_range/π\n",
    "    plot1 = heatmap(\n",
    "        xrange,\n",
    "        xlabel=\"θ/π\",\n",
    "        xtickfont=font(12, \"Courier\"),\n",
    "        xrange,\n",
    "        ylabel=\"θ/π\",\n",
    "        maxeigenvalues,\n",
    "        ytickfont=font(12, \"Courier\"),\n",
    "        title=\"Advection Operator Symbol Maximum Eigenvalues\",\n",
    "        transpose=true,\n",
    "        aspect_ratio=:equal\n",
    "    )\n",
    "    xlims!(θ_min/π, θ_max/π)\n",
    "    ylims!(θ_min/π, θ_max/π)\n",
    "    plot2 = heatmap(\n",
    "        xrange,\n",
    "        xlabel=\"θ/π\",\n",
    "        xtickfont=font(12, \"Courier\"),\n",
    "        xrange,\n",
    "        ylabel=\"θ/π\",\n",
    "        mineigenvalues,\n",
    "        ytickfont=font(12, \"Courier\"),\n",
    "        title=\"Advection Operator Symbol Minimum Eigevalues\",\n",
    "        transpose=true,\n",
    "        aspect_ratio=:equal\n",
    "    )\n",
    "    xlims!(θ_min/π, θ_max/π)\n",
    "    ylims!(θ_min/π, θ_max/π)\n",
    "    plot!(plot1, plot2, layout = (2, 1), size = (700, 1400))\n",
    "end"
   ]
  }
 ],
 "metadata": {
  "interpreter": {
   "hash": "916dbcbb3f70747c44a77c7bcd40155683ae19c65e1c03b4aa3499c5328201f1"
  },
  "kernelspec": {
   "display_name": "Julia 1.7.0",
   "language": "julia",
   "name": "julia-1.7"
  },
  "language_info": {
   "file_extension": ".jl",
   "mimetype": "application/julia",
   "name": "julia",
   "version": "1.7.0"
  },
  "orig_nbformat": 4
 },
 "nbformat": 4,
 "nbformat_minor": 2
}
