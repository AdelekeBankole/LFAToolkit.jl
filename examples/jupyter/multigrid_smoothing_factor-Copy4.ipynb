{
 "cells": [
  {
   "cell_type": "markdown",
   "metadata": {},
   "source": [
    "# Multilevel Multigrid Example"
   ]
  },
  {
   "cell_type": "code",
   "execution_count": 1,
   "metadata": {
    "scrolled": true
   },
   "outputs": [
    {
     "name": "stderr",
     "output_type": "stream",
     "text": [
      "\u001b[32m\u001b[1m Activating\u001b[22m\u001b[39m environment at `~/Dev/LFAToolkit.jl/examples/jupyter/Project.toml`\n"
     ]
    }
   ],
   "source": [
    "# dependencies\n",
    "using LFAToolkit\n",
    "using LinearAlgebra\n",
    "using Pkg\n",
    "Pkg.activate(\"./\")\n",
    "Pkg.instantiate()\n",
    "using Plots"
   ]
  },
  {
   "cell_type": "code",
   "execution_count": 2,
   "metadata": {},
   "outputs": [
    {
     "data": {
      "text/plain": [
       "p-multigrid preconditioner"
      ]
     },
     "execution_count": 2,
     "metadata": {},
     "output_type": "execute_result"
    }
   ],
   "source": [
    "# setup\n",
    "finep = 9\n",
    "midp5 = 5\n",
    "midp3 = 3\n",
    "coarsep = 2\n",
    "dimension = 2\n",
    "\n",
    "mesh = []\n",
    "if dimension == 1\n",
    "   mesh = Mesh1D(1.0)\n",
    "elseif dimension == 2\n",
    "   mesh = Mesh2D(1.0, 1.0)\n",
    "end\n",
    "\n",
    "mtofbasis5 = TensorH1LagrangeBasis(midp5, finep, dimension, lagrangequadrature=true)\n",
    "mtofbasis3 = TensorH1LagrangeBasis(midp3, midp5, dimension, lagrangequadrature=true)\n",
    "ctombasis = TensorH1LagrangeBasis(coarsep, midp3, dimension, lagrangequadrature=true)\n",
    "\n",
    "# diffusion operators\n",
    "finediffusion = GalleryOperator(\"diffusion\", finep, finep, mesh)\n",
    "middiffusion5 = GalleryOperator(\"diffusion\", midp5, finep, mesh)\n",
    "middiffusion3 = GalleryOperator(\"diffusion\", midp3, finep, mesh)\n",
    "coarsediffusion = GalleryOperator(\"diffusion\", coarsep, finep, mesh)\n",
    "\n",
    "# Jacobi smoother\n",
    "finejacobi = Jacobi(finediffusion)\n",
    "midjacobi5 = Jacobi(middiffusion5)\n",
    "midjacobi3 = Jacobi(middiffusion3)\n",
    "\n",
    "# p-multigrid preconditioner\n",
    "midmultigrid3 = PMultigrid(middiffusion3, coarsediffusion, midjacobi3, [ctombasis])\n",
    "midmultigrid5 = PMultigrid(middiffusion5, midmultigrid3, midjacobi5, [mtofbasis3])\n",
    "multigrid = PMultigrid(finediffusion, midmultigrid5, finejacobi, [mtofbasis5])"
   ]
  },
  {
   "cell_type": "code",
   "execution_count": 16,
   "metadata": {},
   "outputs": [
    {
     "name": "stdout",
     "output_type": "stream",
     "text": [
      "Min ω: [0.824, 0.24003923567614865]\n"
     ]
    }
   ],
   "source": [
    "# full operator symbols\n",
    "numberruns = 100\n",
    "numberruns_w = 1\n",
    "maxeigenvalue = 0\n",
    "θ_min = -π/2\n",
    "θ_max = 3π/2\n",
    "ω_max = 1.0\n",
    "\n",
    "# compute and plot smoothing factor\n",
    "# -- 1D --\n",
    "if dimension == 1\n",
    "    # setup\n",
    "    smoothingfactor = zeros(numberruns)\n",
    "    ω_min = [0.0, 1.0]\n",
    "    v = [2, 2]\n",
    "\n",
    "    # compute\n",
    "    for i in 1:numberruns\n",
    "        ω = [0.5+(ω_max-0.5)*i/numberruns]\n",
    "        for j in 1:numberruns\n",
    "            θ = [θ_min + (θ_max - θ_min)*j/numberruns]\n",
    "            if abs(θ[1] % 2π) >  π/512\n",
    "                A = computesymbols(multigrid, ω, v, θ)\n",
    "                eigenvalues = [abs(val) for val in eigvals(A)]\n",
    "                smoothingfactor[i] = max(smoothingfactor[i], eigenvalues...)\n",
    "            end\n",
    "        end\n",
    "        if smoothingfactor[i] < ω_min[2]\n",
    "            ω_min = [ω[1], smoothingfactor[i]]\n",
    "        end\n",
    "    end\n",
    "\n",
    "    # plot\n",
    "    println(\"Min ω: \", ω_min)\n",
    "    xrange = 0:ω_max/(numberruns-1):ω_max\n",
    "    plot(xrange,\n",
    "        smoothingfactor,\n",
    "        xlabel=\"ω\",\n",
    "        xtickfont=font(12, \"Courier\"),\n",
    "        ylabel=\"spectral radius\",\n",
    "        ytickfont=font(12, \"Courier\"),\n",
    "        linewidth=3,\n",
    "        legend=:none,\n",
    "        title=\"Multigrid Convergence Factor\"\n",
    "    )\n",
    "    ylims!(0.0, max(smoothingfactor...))\n",
    "    savefig(\"multi_grid_converge_9_to_2_2smooth\")\n",
    "# -- 2D --\n",
    "elseif dimension == 2\n",
    "    # setup\n",
    "    smoothingfactor = zeros(numberruns_w)\n",
    "    ω_min = [0.0, 1.0]\n",
    "    v = [3, 3]\n",
    "\n",
    "    # compute\n",
    "    for i in 1:numberruns_w\n",
    "        ω = [0.824]\n",
    "        for j in 1:numberruns, k in 1:numberruns\n",
    "            θ = [\n",
    "                θ_min + (θ_max - θ_min)*j/numberruns,\n",
    "                θ_min + (θ_max - θ_min)*k/numberruns\n",
    "            ]\n",
    "            if θ[1] > π/2 || θ[2] > π/2\n",
    "                A = computesymbols(multigrid, ω, v, θ)\n",
    "                eigenvalues = [abs(val) for val in eigvals(A)]\n",
    "                smoothingfactor[i] = max(smoothingfactor[i], eigenvalues...)\n",
    "                if smoothingfactor[i] < ω_min[2]\n",
    "                    ω_min = [ω[1], smoothingfactor[i]]\n",
    "                end\n",
    "            end\n",
    "        end\n",
    "    end\n",
    "\n",
    "    # plot\n",
    "    println(\"Min ω: \", ω_min)\n",
    "    xrange = 0:ω_max/(numberruns_w-1):ω_max\n",
    "    plot(xrange,\n",
    "        smoothingfactor,\n",
    "        xlabel=\"ω\",\n",
    "        xtickfont=font(12, \"Courier\"),\n",
    "        ylabel=\"spectral radius\",\n",
    "        ytickfont=font(12, \"Courier\"),\n",
    "        linewidth=3,\n",
    "        legend=:none,\n",
    "        title=\"Multigrid Convergence Factor\"\n",
    "    )\n",
    "    ylims!(0.0, max(smoothingfactor...))\n",
    "    savefig(\"multi_grid_converge_9_to_2_2smooth_2d\")\n",
    "end"
   ]
  },
  {
   "cell_type": "code",
   "execution_count": 4,
   "metadata": {},
   "outputs": [
    {
     "data": {
      "text/plain": [
       "2-element Array{Float64,1}:\n",
       " 0.621\n",
       " 0.341272072309178"
      ]
     },
     "execution_count": 4,
     "metadata": {},
     "output_type": "execute_result"
    }
   ],
   "source": [
    "ω_min"
   ]
  },
  {
   "cell_type": "code",
   "execution_count": null,
   "metadata": {},
   "outputs": [],
   "source": [
    "Min ω: [0.621, 0.341272072309178]\n",
    "Min ω: [0.701, 0.2955624173235356]\n",
    "Min ω: [0.751, 0.27021744986394947]\n",
    "Min ω: [0.775, 0.2588824653286967]\n",
    "Min ω: [0.801, 0.24720752560125261]\n",
    "Min ω: [0.821, 0.23876564164311115]\n",
    "Min ω: [0.822, 0.23842828860790882]\n",
    "\n",
    "Min ω: [0.823, 0.23833939997342654]\n",
    "\n",
    "Min ω: [0.824, 0.24003923567614865]\n",
    "Min ω: [0.825, 0.24352441488886156]\n",
    "Min ω: [0.831, 0.26817450689112876]\n",
    "Min ω: [0.851, 0.36753495518022794]\n",
    "Min ω: [0.900, 0.7472783288139381]"
   ]
  }
 ],
 "metadata": {
  "kernelspec": {
   "display_name": "Julia 1.5.2",
   "language": "julia",
   "name": "julia-1.5"
  },
  "language_info": {
   "file_extension": ".jl",
   "mimetype": "application/julia",
   "name": "julia",
   "version": "1.5.2"
  }
 },
 "nbformat": 4,
 "nbformat_minor": 4
}
