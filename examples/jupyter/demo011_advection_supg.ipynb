{
 "cells": [
  {
   "cell_type": "markdown",
   "metadata": {},
   "source": [
    "# SUPG Advection Example: Dispersion and Phase Speed Diagrams"
   ]
  },
  {
   "cell_type": "code",
   "execution_count": null,
   "metadata": {},
   "outputs": [],
   "source": [
    "# dependencies\n",
    "using Pkg\n",
    "Pkg.activate(\".\")\n",
    "Pkg.instantiate()\n",
    "Pkg.develop(path=\"../..\")\n",
    "using Plots\n",
    "using LFAToolkit\n",
    "using LinearAlgebra "
   ]
  },
  {
   "cell_type": "code",
   "execution_count": null,
   "metadata": {},
   "outputs": [],
   "source": [
    "# setup\n",
    "p = 2\n",
    "q = p\n",
    "dimension = 1\n",
    "mapping = nothing\n",
    "collocate = false\n",
    "basis = TensorH1LagrangeBasis(p, q, 1, 1, collocatedquadrature = collocate, mapping = mapping)\n",
    "\n",
    "mesh = []\n",
    "if dimension == 1\n",
    "   mesh = Mesh1D(1.0)\n",
    "elseif dimension == 2\n",
    "   mesh = Mesh2D(1.0, 1.0)\n",
    "end\n",
    "\n",
    "# advective speed\n",
    "c = 1.0\n",
    "# Tau scaling for SUPG, 0 returns Galerkin method\n",
    "τ = 0.5 / (p - 1)"
   ]
  },
  {
   "cell_type": "code",
   "execution_count": null,
   "metadata": {},
   "outputs": [],
   "source": [
    "# SUPG advection weakform \n",
    "function supgadvectionweakform(U::Matrix{Float64}, w::Array{Float64})\n",
    "    u = U[1, :]\n",
    "    du = U[2, :]\n",
    "    dv = (c * u - c * τ * (c * du)) * w[1]\n",
    "    return [dv]\n",
    "end\n",
    "\n",
    "# SUPG advection operator\n",
    "inputs = [\n",
    "    OperatorField(\n",
    "        basis,\n",
    "        [EvaluationMode.interpolation, EvaluationMode.gradient],\n",
    "        \"advected field\",\n",
    "    ),\n",
    "    OperatorField(basis, [EvaluationMode.quadratureweights], \"quadrature weights\"),\n",
    "]\n",
    "outputs = [OperatorField(basis, [EvaluationMode.gradient])]\n",
    "supgadvection = Operator(supgadvectionweakform, mesh, inputs, outputs)\n",
    "\n",
    "# SUPG mass weakform and mass operator\n",
    "function supgmassweakform(udot::Array{Float64}, w::Array{Float64})\n",
    "    v = udot * w[1]\n",
    "    dv = c * τ * udot * w[1]\n",
    "    return ([v; dv],)\n",
    "end\n",
    "supgmass = Operator(\n",
    "    supgmassweakform,\n",
    "    mesh,\n",
    "    [\n",
    "        OperatorField(basis, [EvaluationMode.interpolation], \"u_t\"),\n",
    "        OperatorField(basis, [EvaluationMode.quadratureweights], \"quadrature weights\"),\n",
    "    ],\n",
    "    [OperatorField(basis, [EvaluationMode.interpolation, EvaluationMode.gradient])],\n",
    ")"
   ]
  },
  {
   "cell_type": "code",
   "execution_count": null,
   "metadata": {},
   "outputs": [],
   "source": [
    "# compute full operator symbols\n",
    "numbersteps = 100\n",
    "maxeigenvalue = 0\n",
    "θ_min = 0\n",
    "θ_max = (p-1) * π\n",
    "θ_range = LinRange(θ_min, θ_max, numbersteps)\n",
    "\n",
    "# compute and plot dispersion and phase speed\n",
    "# -- 1D --\n",
    "function advection_supg_symbol(θ_range)\n",
    "    A = computesymbols(supgadvection, [θ_range]) * 2 # transform from reference to physical on dx=1 grid\n",
    "    M = computesymbols(supgmass, [θ_range]) # mass matrix\n",
    "    return sort(imag.(eigvals(-M \\ A)))\n",
    "end\n",
    "\n",
    "eigenvalues = hcat(advection_supg_symbol.(θ_range)...)'\n",
    "\n",
    "plot1 = plot(θ_range / π, eigenvalues ./ π, linewidth = 3) # Dispersion diagram\n",
    "        plot!(\n",
    "        identity,\n",
    "        xlabel = \"θ/π\",\n",
    "        ylabel = \"Eigenvalues\",\n",
    "        label = \"exact\",\n",
    "        legend = :none,\n",
    "        color = :black,\n",
    "        title = \"Dispersion relation, p=$p, collocate=$collocate, τ=$τ\",\n",
    ")\n",
    "plot2 = plot(θ_range / π, eigenvalues ./ θ_range, linewidth = 3) # Phase speed diagram\n",
    "        plot!(\n",
    "        one,\n",
    "        xlabel = \"θ/π\",\n",
    "        ylabel = \"Eigvalues/θ\",\n",
    "        legend = :none,\n",
    "        color = :black,\n",
    "        title = \"Phase speed, p=$p, collocate=$collocate, τ=$τ\",\n",
    ")\n",
    "plot!(plot1, plot2, layout = (1, 2), size = (1050, 450))"
   ]
  }
 ],
 "metadata": {
  "kernelspec": {
   "display_name": "Julia 1.7.0",
   "language": "julia",
   "name": "julia-1.7"
  },
  "language_info": {
   "file_extension": ".jl",
   "mimetype": "application/julia",
   "name": "julia",
   "version": "1.7.0"
  },
  "orig_nbformat": 4
 },
 "nbformat": 4,
 "nbformat_minor": 2
}
