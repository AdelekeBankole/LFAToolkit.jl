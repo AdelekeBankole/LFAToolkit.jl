{
 "cells": [
  {
   "cell_type": "markdown",
   "metadata": {},
   "source": [
    "# Diffusion Example"
   ]
  },
  {
   "cell_type": "code",
   "execution_count": null,
   "metadata": {},
   "outputs": [],
   "source": [
    "# dependencies\n",
    "using LFAToolkit\n",
    "using LinearAlgebra\n",
    "using Plots"
   ]
  },
  {
   "cell_type": "code",
   "execution_count": null,
   "metadata": {},
   "outputs": [],
   "source": [
    "# setup\n",
    "mesh = Mesh2D(1.0, 1.0)\n",
    "p = 2\n",
    "basis = TensorH1LagrangeBasis(p, 4, 2)\n",
    "\n",
    "function diffusionweakform(du::Array{Float64}, w::Array{Float64})\n",
    "    dv = du*w[1]\n",
    "    return [dv]\n",
    "end\n",
    "\n",
    "# diffusion operator\n",
    "inputs = [\n",
    "    OperatorField(basis, [EvaluationMode.gradient]),\n",
    "    OperatorField(basis, [EvaluationMode.quadratureweights]),\n",
    "]\n",
    "outputs = [OperatorField(basis, [EvaluationMode.gradient])]\n",
    "diffusion = Operator(diffusionweakform, mesh, inputs, outputs)"
   ]
  },
  {
   "cell_type": "code",
   "execution_count": null,
   "metadata": {
    "scrolled": true
   },
   "outputs": [],
   "source": [
    "# compute operator symbols\n",
    "numberruns = 100\n",
    "maxeigenvalues = zeros(numberruns, numberruns)\n",
    "\n",
    "for i in 1:numberruns, j in 1:numberruns\n",
    "    A = computesymbols(diffusion, [2π*(i/numberruns), 2π*(j/numberruns)])\n",
    "    eigenvalues = [abs(val) for val in eigvals(A)]\n",
    "    maxeigenvalues[i, j] = max(eigenvalues...)\n",
    "end\n",
    "\n",
    "# plot\n",
    "heatmap(maxeigenvalues, title=\"Diffusion Symbols\", transpose=true)"
   ]
  }
 ],
 "metadata": {
  "kernelspec": {
   "display_name": "Julia 1.5.1",
   "language": "julia",
   "name": "julia-1.5"
  },
  "language_info": {
   "file_extension": ".jl",
   "mimetype": "application/julia",
   "name": "julia",
   "version": "1.5.1"
  }
 },
 "nbformat": 4,
 "nbformat_minor": 4
}
